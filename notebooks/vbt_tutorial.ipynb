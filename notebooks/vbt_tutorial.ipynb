{
 "cells": [
  {
   "cell_type": "code",
   "execution_count": 3,
   "metadata": {},
   "outputs": [
    {
     "name": "stderr",
     "output_type": "stream",
     "text": [
      "c:\\Users\\slavi\\anaconda3\\envs\\Bruno_proj\\lib\\site-packages\\numba\\core\\decorators.py:262: NumbaDeprecationWarning: \u001b[1mnumba.generated_jit is deprecated. Please see the documentation at: https://numba.readthedocs.io/en/stable/reference/deprecation.html#deprecation-of-generated-jit for more information and advice on a suitable replacement.\u001b[0m\n",
      "  warnings.warn(msg, NumbaDeprecationWarning)\n"
     ]
    }
   ],
   "source": [
    "import pandas as pd\n",
    "import datetime\n",
    "import vectorbt as vbt\n",
    "import numpy as np"
   ]
  },
  {
   "cell_type": "code",
   "execution_count": 9,
   "metadata": {},
   "outputs": [
    {
     "data": {
      "application/vnd.jupyter.widget-view+json": {
       "model_id": "a9d06e0adf0542608a0d8f4268dc37f4",
       "version_major": 2,
       "version_minor": 0
      },
      "text/plain": [
       "0it [00:00, ?it/s]"
      ]
     },
     "metadata": {},
     "output_type": "display_data"
    },
    {
     "data": {
      "application/vnd.jupyter.widget-view+json": {
       "model_id": "b19e424397964e639d146fc24594e88c",
       "version_major": 2,
       "version_minor": 0
      },
      "text/plain": [
       "0it [00:00, ?it/s]"
      ]
     },
     "metadata": {},
     "output_type": "display_data"
    },
    {
     "data": {
      "text/html": [
       "<div>\n",
       "<style scoped>\n",
       "    .dataframe tbody tr th:only-of-type {\n",
       "        vertical-align: middle;\n",
       "    }\n",
       "\n",
       "    .dataframe tbody tr th {\n",
       "        vertical-align: top;\n",
       "    }\n",
       "\n",
       "    .dataframe thead th {\n",
       "        text-align: right;\n",
       "    }\n",
       "</style>\n",
       "<table border=\"1\" class=\"dataframe\">\n",
       "  <thead>\n",
       "    <tr style=\"text-align: right;\">\n",
       "      <th>symbol</th>\n",
       "      <th>ETHUSDT</th>\n",
       "      <th>BTCUSDT</th>\n",
       "    </tr>\n",
       "    <tr>\n",
       "      <th>Open time</th>\n",
       "      <th></th>\n",
       "      <th></th>\n",
       "    </tr>\n",
       "  </thead>\n",
       "  <tbody>\n",
       "    <tr>\n",
       "      <th>2023-07-13 14:50:00+00:00</th>\n",
       "      <td>1882.74</td>\n",
       "      <td>30583.00</td>\n",
       "    </tr>\n",
       "    <tr>\n",
       "      <th>2023-07-13 14:51:00+00:00</th>\n",
       "      <td>1882.80</td>\n",
       "      <td>30576.00</td>\n",
       "    </tr>\n",
       "    <tr>\n",
       "      <th>2023-07-13 14:52:00+00:00</th>\n",
       "      <td>1882.33</td>\n",
       "      <td>30575.67</td>\n",
       "    </tr>\n",
       "    <tr>\n",
       "      <th>2023-07-13 14:53:00+00:00</th>\n",
       "      <td>1882.59</td>\n",
       "      <td>30580.00</td>\n",
       "    </tr>\n",
       "    <tr>\n",
       "      <th>2023-07-13 14:54:00+00:00</th>\n",
       "      <td>1882.12</td>\n",
       "      <td>30570.23</td>\n",
       "    </tr>\n",
       "    <tr>\n",
       "      <th>...</th>\n",
       "      <td>...</td>\n",
       "      <td>...</td>\n",
       "    </tr>\n",
       "    <tr>\n",
       "      <th>2023-07-14 14:45:00+00:00</th>\n",
       "      <td>1995.87</td>\n",
       "      <td>31223.99</td>\n",
       "    </tr>\n",
       "    <tr>\n",
       "      <th>2023-07-14 14:46:00+00:00</th>\n",
       "      <td>1995.43</td>\n",
       "      <td>31215.00</td>\n",
       "    </tr>\n",
       "    <tr>\n",
       "      <th>2023-07-14 14:47:00+00:00</th>\n",
       "      <td>1996.21</td>\n",
       "      <td>31232.51</td>\n",
       "    </tr>\n",
       "    <tr>\n",
       "      <th>2023-07-14 14:48:00+00:00</th>\n",
       "      <td>1995.22</td>\n",
       "      <td>31218.84</td>\n",
       "    </tr>\n",
       "    <tr>\n",
       "      <th>2023-07-14 14:49:00+00:00</th>\n",
       "      <td>1995.63</td>\n",
       "      <td>31228.34</td>\n",
       "    </tr>\n",
       "  </tbody>\n",
       "</table>\n",
       "<p>1440 rows × 2 columns</p>\n",
       "</div>"
      ],
      "text/plain": [
       "symbol                     ETHUSDT   BTCUSDT\n",
       "Open time                                   \n",
       "2023-07-13 14:50:00+00:00  1882.74  30583.00\n",
       "2023-07-13 14:51:00+00:00  1882.80  30576.00\n",
       "2023-07-13 14:52:00+00:00  1882.33  30575.67\n",
       "2023-07-13 14:53:00+00:00  1882.59  30580.00\n",
       "2023-07-13 14:54:00+00:00  1882.12  30570.23\n",
       "...                            ...       ...\n",
       "2023-07-14 14:45:00+00:00  1995.87  31223.99\n",
       "2023-07-14 14:46:00+00:00  1995.43  31215.00\n",
       "2023-07-14 14:47:00+00:00  1996.21  31232.51\n",
       "2023-07-14 14:48:00+00:00  1995.22  31218.84\n",
       "2023-07-14 14:49:00+00:00  1995.63  31228.34\n",
       "\n",
       "[1440 rows x 2 columns]"
      ]
     },
     "execution_count": 9,
     "metadata": {},
     "output_type": "execute_result"
    }
   ],
   "source": [
    "end_date = datetime.datetime.now()\n",
    "start_date = end_date - datetime.timedelta(days = 1, )\n",
    "eth_price = vbt.BinanceData.download(['ETHUSDT', 'BTCUSDT'],\n",
    "                                interval = '1m',\n",
    "                                start = start_date,\n",
    "                                end = end_date,\n",
    "                                missing_index= 'drop').get(\"Close\")\n",
    "\n",
    "eth_price\n"
   ]
  },
  {
   "cell_type": "code",
   "execution_count": 10,
   "metadata": {},
   "outputs": [],
   "source": [
    "fast_ma = vbt.MA.run(eth_price, 10)\n",
    "slow_ma = vbt.MA.run(eth_price, 50)\n",
    "rsi = vbt.RSI.run(eth_price)"
   ]
  },
  {
   "cell_type": "code",
   "execution_count": 11,
   "metadata": {},
   "outputs": [],
   "source": [
    "entries = fast_ma.ma_crossed_above(slow_ma) & rsi.rsi_above(50)\n",
    "exits = slow_ma.ma_crossed_above(fast_ma) & rsi.rsi_below(50)"
   ]
  },
  {
   "cell_type": "code",
   "execution_count": 12,
   "metadata": {},
   "outputs": [
    {
     "data": {
      "text/plain": [
       "ma_window  ma_window  symbol \n",
       "50         10         ETHUSDT    0.011174\n",
       "                      BTCUSDT    0.007730\n",
       "Name: total_return, dtype: float64"
      ]
     },
     "execution_count": 12,
     "metadata": {},
     "output_type": "execute_result"
    }
   ],
   "source": [
    "pf = vbt.Portfolio.from_signals(eth_price, entries, exits, init_cash=10000)\n",
    "pf.total_return()"
   ]
  },
  {
   "attachments": {},
   "cell_type": "markdown",
   "metadata": {},
   "source": [
    "# Indicator Factory"
   ]
  },
  {
   "cell_type": "code",
   "execution_count": 15,
   "metadata": {},
   "outputs": [],
   "source": [
    "def custom_indicator(close, rsi_window = 14, ma_window = 50, entry = 30, exit = 70):\n",
    "    close_5m = close.resample('5T').last()\n",
    "    rsi = vbt.RSI.run(close_5m, window = rsi_window).rsi\n",
    "    rsi, _ = rsi.align(close, broadcast_axis = 0, method = 'ffill', join = 'right')\n",
    "    \n",
    "    close = close.to_numpy()\n",
    "    rsi = rsi.to_numpy()\n",
    "    ma = vbt.MA.run(close, ma_window).ma.to_numpy()\n",
    "    trend = np.where(rsi > exit, -1, 0)\n",
    "    trend = np.where ((rsi < entry) & (close < ma), 1, trend)\n",
    "    return trend\n",
    "    \n"
   ]
  },
  {
   "cell_type": "code",
   "execution_count": 21,
   "metadata": {},
   "outputs": [
    {
     "data": {
      "text/plain": [
       "<vectorbt.indicators.factory.TrueStrat at 0x1dcce142730>"
      ]
     },
     "execution_count": 21,
     "metadata": {},
     "output_type": "execute_result"
    }
   ],
   "source": [
    "res"
   ]
  },
  {
   "cell_type": "code",
   "execution_count": 17,
   "metadata": {},
   "outputs": [],
   "source": [
    "ind = vbt.IndicatorFactory(\n",
    "        class_name= 'combination',\n",
    "        short_name = 'comb',\n",
    "        input_names = [\"close\" ],\n",
    "        param_names = [\"rsi_window\", \"ma_window\", \"entry\", \"exit\"],\n",
    "        output_names= [\"value\"]\n",
    "    ).from_apply_func(custom_indicator,\n",
    "                      rsi_window = 14,\n",
    "                      ma_window = 50,\n",
    "                      entry = 30,\n",
    "                      exit = 70,\n",
    "                      keep_pd = True)\n",
    "\n",
    "res = ind.run(eth_price, \n",
    "              rsi_window = np.arange(10, 40, step = 3, dtype = int),\n",
    "              ma_window = np.arange(20, 200, step = 15, dtype = int),\n",
    "              entry = np.arange(10, 40, step = 4, dtype = int),\n",
    "              exit = np.arange(60, 85, step = 4, dtype = int),\n",
    "              param_product = True\n",
    "              )\n"
   ]
  },
  {
   "cell_type": "code",
   "execution_count": 19,
   "metadata": {},
   "outputs": [
    {
     "data": {
      "text/html": [
       "<div>\n",
       "<style scoped>\n",
       "    .dataframe tbody tr th:only-of-type {\n",
       "        vertical-align: middle;\n",
       "    }\n",
       "\n",
       "    .dataframe tbody tr th {\n",
       "        vertical-align: top;\n",
       "    }\n",
       "\n",
       "    .dataframe thead th {\n",
       "        text-align: right;\n",
       "    }\n",
       "</style>\n",
       "<table border=\"1\" class=\"dataframe\">\n",
       "  <thead>\n",
       "    <tr style=\"text-align: right;\">\n",
       "      <th>symbol</th>\n",
       "      <th>ETHUSDT</th>\n",
       "      <th>BTCUSDT</th>\n",
       "    </tr>\n",
       "    <tr>\n",
       "      <th>Open time</th>\n",
       "      <th></th>\n",
       "      <th></th>\n",
       "    </tr>\n",
       "  </thead>\n",
       "  <tbody>\n",
       "    <tr>\n",
       "      <th>2023-07-13 14:50:00+00:00</th>\n",
       "      <td>1882.74</td>\n",
       "      <td>30583.00</td>\n",
       "    </tr>\n",
       "    <tr>\n",
       "      <th>2023-07-13 14:51:00+00:00</th>\n",
       "      <td>1882.80</td>\n",
       "      <td>30576.00</td>\n",
       "    </tr>\n",
       "    <tr>\n",
       "      <th>2023-07-13 14:52:00+00:00</th>\n",
       "      <td>1882.33</td>\n",
       "      <td>30575.67</td>\n",
       "    </tr>\n",
       "    <tr>\n",
       "      <th>2023-07-13 14:53:00+00:00</th>\n",
       "      <td>1882.59</td>\n",
       "      <td>30580.00</td>\n",
       "    </tr>\n",
       "    <tr>\n",
       "      <th>2023-07-13 14:54:00+00:00</th>\n",
       "      <td>1882.12</td>\n",
       "      <td>30570.23</td>\n",
       "    </tr>\n",
       "    <tr>\n",
       "      <th>...</th>\n",
       "      <td>...</td>\n",
       "      <td>...</td>\n",
       "    </tr>\n",
       "    <tr>\n",
       "      <th>2023-07-14 14:45:00+00:00</th>\n",
       "      <td>1995.87</td>\n",
       "      <td>31223.99</td>\n",
       "    </tr>\n",
       "    <tr>\n",
       "      <th>2023-07-14 14:46:00+00:00</th>\n",
       "      <td>1995.43</td>\n",
       "      <td>31215.00</td>\n",
       "    </tr>\n",
       "    <tr>\n",
       "      <th>2023-07-14 14:47:00+00:00</th>\n",
       "      <td>1996.21</td>\n",
       "      <td>31232.51</td>\n",
       "    </tr>\n",
       "    <tr>\n",
       "      <th>2023-07-14 14:48:00+00:00</th>\n",
       "      <td>1995.22</td>\n",
       "      <td>31218.84</td>\n",
       "    </tr>\n",
       "    <tr>\n",
       "      <th>2023-07-14 14:49:00+00:00</th>\n",
       "      <td>1995.63</td>\n",
       "      <td>31228.34</td>\n",
       "    </tr>\n",
       "  </tbody>\n",
       "</table>\n",
       "<p>1440 rows × 2 columns</p>\n",
       "</div>"
      ],
      "text/plain": [
       "symbol                     ETHUSDT   BTCUSDT\n",
       "Open time                                   \n",
       "2023-07-13 14:50:00+00:00  1882.74  30583.00\n",
       "2023-07-13 14:51:00+00:00  1882.80  30576.00\n",
       "2023-07-13 14:52:00+00:00  1882.33  30575.67\n",
       "2023-07-13 14:53:00+00:00  1882.59  30580.00\n",
       "2023-07-13 14:54:00+00:00  1882.12  30570.23\n",
       "...                            ...       ...\n",
       "2023-07-14 14:45:00+00:00  1995.87  31223.99\n",
       "2023-07-14 14:46:00+00:00  1995.43  31215.00\n",
       "2023-07-14 14:47:00+00:00  1996.21  31232.51\n",
       "2023-07-14 14:48:00+00:00  1995.22  31218.84\n",
       "2023-07-14 14:49:00+00:00  1995.63  31228.34\n",
       "\n",
       "[1440 rows x 2 columns]"
      ]
     },
     "execution_count": 19,
     "metadata": {},
     "output_type": "execute_result"
    }
   ],
   "source": [
    "eth_price"
   ]
  },
  {
   "cell_type": "code",
   "execution_count": 23,
   "metadata": {},
   "outputs": [
    {
     "data": {
      "text/plain": [
       "('entries', 'exits')"
      ]
     },
     "execution_count": 23,
     "metadata": {},
     "output_type": "execute_result"
    }
   ],
   "source": [
    "res.output_names\n"
   ]
  },
  {
   "cell_type": "code",
   "execution_count": null,
   "metadata": {},
   "outputs": [],
   "source": [
    "entries = res.value == 1.0\n",
    "exits = res.value == -1.0\n"
   ]
  },
  {
   "cell_type": "code",
   "execution_count": 13,
   "metadata": {},
   "outputs": [
    {
     "name": "stdout",
     "output_type": "stream",
     "text": [
      "0.011174480558999278\n",
      "(50, 10, 'ETHUSDT')\n"
     ]
    },
    {
     "data": {
      "text/plain": [
       "Series([], Name: total_return, dtype: float64)"
      ]
     },
     "execution_count": 13,
     "metadata": {},
     "output_type": "execute_result"
    }
   ],
   "source": [
    "pf = vbt.Portfolio.from_signals(eth_price, entries, exits)\n",
    "returns = pf.total_return()\n",
    "\n",
    "returns_eth = returns[returns.index.isin([\"ETH-USD\"], level = 'symbol')]\n",
    "print(returns.max())\n",
    "print(returns.idxmax())\n",
    "returns_eth"
   ]
  },
  {
   "cell_type": "code",
   "execution_count": null,
   "metadata": {},
   "outputs": [
    {
     "data": {
      "application/vnd.plotly.v1+json": {
       "config": {
        "plotlyServerURL": "https://plot.ly"
       },
       "data": [
        {
         "colorscale": [
          [
           0,
           "#0d0887"
          ],
          [
           0.1111111111111111,
           "#46039f"
          ],
          [
           0.2222222222222222,
           "#7201a8"
          ],
          [
           0.3333333333333333,
           "#9c179e"
          ],
          [
           0.4444444444444444,
           "#bd3786"
          ],
          [
           0.5555555555555556,
           "#d8576b"
          ],
          [
           0.6666666666666666,
           "#ed7953"
          ],
          [
           0.7777777777777778,
           "#fb9f3a"
          ],
          [
           0.8888888888888888,
           "#fdca26"
          ],
          [
           1,
           "#f0f921"
          ]
         ],
         "hoverongaps": false,
         "hovertemplate": "comb_rsi_window: %{x}<br>comb_ma_window: %{y}<br>value: %{z}<extra></extra>",
         "name": "BTC-USD",
         "type": "heatmap",
         "uid": "73435eff-26a2-4fa1-82d5-58bbca272586",
         "visible": true,
         "x": [
          10,
          13,
          16,
          19,
          22,
          25,
          28,
          31,
          34,
          37
         ],
         "y": [
          20,
          35,
          50,
          65,
          80,
          95,
          110,
          125,
          140,
          155,
          170,
          185
         ],
         "z": [
          [
           -0.07090496674656506,
           -0.06911579925118531,
           -0.06987800123509175,
           -0.07116249095132034,
           -0.07127198962957394,
           -0.07050803505945183,
           -0.07078774993124029,
           -0.07054103835563709,
           -0.06848686723754498,
           -0.06815941409219675
          ],
          [
           -0.07098008541995256,
           -0.06911579925118531,
           -0.06988655359845311,
           -0.07116249095132034,
           -0.07127198962957394,
           -0.07050803505945183,
           -0.07078774993124029,
           -0.07054103835563709,
           -0.06848686723754498,
           -0.06873714279418365
          ],
          [
           -0.07137874871870195,
           -0.06911579925118531,
           -0.06988655359845311,
           -0.07116249095132034,
           -0.07127198962957394,
           -0.07050803505945183,
           -0.07078774993124029,
           -0.07054103835563709,
           -0.06848686723754498,
           -0.06873714279418365
          ],
          [
           -0.07139312964201139,
           -0.06714075471913616,
           -0.06988655359845311,
           -0.07228778564145032,
           -0.07127198962957394,
           -0.07050803505945183,
           -0.07078774993124029,
           -0.07054103835563709,
           -0.06848686723754498,
           -0.06873714279418365
          ],
          [
           -0.07445110610168286,
           -0.06718312344121628,
           -0.06988655359845311,
           -0.07228778564145032,
           -0.07127198962957394,
           -0.07050803505945183,
           -0.07078774993124029,
           -0.07054103835563709,
           -0.06848686723754498,
           -0.06873714279418365
          ],
          [
           -0.07295520548940444,
           -0.06911579925118531,
           -0.06988655359845311,
           -0.07228778564145032,
           -0.07127198962957394,
           -0.07050803505945183,
           -0.07078774993124029,
           -0.07054103835563709,
           -0.06848686723754498,
           -0.06873714279418365
          ],
          [
           -0.07238832775930419,
           -0.06911579925118531,
           -0.06988655359845311,
           -0.07228778564145032,
           -0.07127198962957394,
           -0.07050803505945183,
           -0.07078774993124029,
           -0.07054103835563709,
           -0.06848686723754498,
           -0.06873714279418365
          ],
          [
           -0.07094636219213556,
           -0.06911579925118531,
           -0.06988655359845311,
           -0.07228778564145032,
           -0.07127198962957394,
           -0.07050803505945183,
           -0.07078774993124029,
           -0.07054103835563709,
           -0.06848686723754498,
           -0.06873714279418365
          ],
          [
           -0.07095744873274967,
           -0.06891777838550808,
           -0.06988655359845311,
           -0.07228778564145032,
           -0.07127198962957394,
           -0.07050803505945183,
           -0.07078774993124029,
           -0.07054103835563709,
           -0.06848686723754498,
           -0.06873714279418365
          ],
          [
           -0.07095744873274967,
           -0.06891777838550808,
           -0.06988655359845311,
           -0.07228778564145032,
           -0.07127198962957394,
           -0.07050803505945183,
           -0.07078774993124029,
           -0.07054103835563709,
           -0.06848686723754498,
           -0.06873714279418365
          ],
          [
           -0.06945579802595703,
           -0.06834947918479543,
           -0.06988655359845311,
           -0.07228778564145032,
           -0.07127198962957394,
           -0.07050803505945183,
           -0.07078774993124029,
           -0.07054103835563709,
           -0.06848686723754498,
           -0.06873714279418365
          ],
          [
           -0.06929734072683175,
           -0.06819083349666584,
           -0.06988655359845311,
           -0.07228778564145032,
           -0.07127198962957394,
           -0.07050803505945183,
           -0.07078774993124029,
           -0.07054103835563709,
           -0.06848686723754498,
           -0.06873714279418365
          ]
         ]
        },
        {
         "colorscale": [
          [
           0,
           "#0d0887"
          ],
          [
           0.1111111111111111,
           "#46039f"
          ],
          [
           0.2222222222222222,
           "#7201a8"
          ],
          [
           0.3333333333333333,
           "#9c179e"
          ],
          [
           0.4444444444444444,
           "#bd3786"
          ],
          [
           0.5555555555555556,
           "#d8576b"
          ],
          [
           0.6666666666666666,
           "#ed7953"
          ],
          [
           0.7777777777777778,
           "#fb9f3a"
          ],
          [
           0.8888888888888888,
           "#fdca26"
          ],
          [
           1,
           "#f0f921"
          ]
         ],
         "hoverongaps": false,
         "hovertemplate": "comb_rsi_window: %{x}<br>comb_ma_window: %{y}<br>value: %{z}<extra></extra>",
         "name": "ETH-USD",
         "type": "heatmap",
         "uid": "a1b4ac64-c64b-4717-8b37-5e6ef30811ab",
         "visible": false,
         "x": [
          10,
          13,
          16,
          19,
          22,
          25,
          28,
          31,
          34,
          37
         ],
         "y": [
          20,
          35,
          50,
          65,
          80,
          95,
          110,
          125,
          140,
          155,
          170,
          185
         ],
         "z": [
          [
           -0.07935461268100724,
           -0.07807020037586682,
           -0.08199925671357476,
           -0.08060318652372146,
           -0.08114768662273704,
           -0.08114768662273704,
           -0.08142508500699563,
           -0.0814647562653775,
           -0.08037081649304753,
           -0.07881551910861234
          ],
          [
           -0.08165792359096699,
           -0.07807020037586682,
           -0.08222584723145303,
           -0.07940738430601485,
           -0.08114768662273704,
           -0.08114768662273704,
           -0.08093805483647586,
           -0.08093805483647586,
           -0.08037081649304753,
           -0.07881551910861234
          ],
          [
           -0.08165792359096699,
           -0.07807020037586682,
           -0.08222584723145303,
           -0.08099688633142563,
           -0.08114768662273704,
           -0.08114768662273704,
           -0.08056789296177982,
           -0.08056789296177982,
           -0.08037081649304753,
           -0.07881551910861234
          ],
          [
           -0.08062317834132571,
           -0.07807020037586682,
           -0.07829420693222801,
           -0.08099688633142563,
           -0.08114768662273704,
           -0.08114768662273704,
           -0.08093805483647586,
           -0.08093805483647586,
           -0.08037081649304753,
           -0.07881551910861234
          ],
          [
           -0.08675066750240461,
           -0.0803169545434109,
           -0.07829420693222801,
           -0.08099688633142563,
           -0.08114768662273704,
           -0.08114768662273704,
           -0.08228751538227058,
           -0.08162216248826709,
           -0.08037081649304753,
           -0.07881551910861234
          ],
          [
           -0.0858079556716413,
           -0.08324291773440436,
           -0.08222584723145303,
           -0.08099688633142563,
           -0.08114768662273704,
           -0.08114768662273704,
           -0.08228751538227058,
           -0.08162216248826709,
           -0.08037081649304753,
           -0.07881551910861234
          ],
          [
           -0.08429181757243072,
           -0.08324291773440436,
           -0.08222584723145303,
           -0.08099688633142563,
           -0.08114768662273704,
           -0.08114768662273704,
           -0.08228751538227058,
           -0.08162216248826709,
           -0.08037081649304753,
           -0.07881551910861234
          ],
          [
           -0.08140591466134438,
           -0.08324291773440436,
           -0.08222584723145303,
           -0.08099688633142563,
           -0.08114768662273704,
           -0.08114768662273704,
           -0.08228751538227058,
           -0.08162216248826709,
           -0.08037081649304753,
           -0.07881551910861234
          ],
          [
           -0.07999554840324592,
           -0.08272521814984557,
           -0.08222584723145303,
           -0.08099688633142563,
           -0.08114768662273704,
           -0.08114768662273704,
           -0.08228751538227058,
           -0.08162216248826709,
           -0.08037081649304753,
           -0.07881551910861234
          ],
          [
           -0.08069164369743234,
           -0.08278813558246469,
           -0.08222584723145303,
           -0.08099688633142563,
           -0.08114768662273704,
           -0.08114768662273704,
           -0.08228751538227058,
           -0.08162216248826709,
           -0.08037081649304753,
           -0.07881551910861234
          ],
          [
           -0.08257070456544753,
           -0.08171618866648003,
           -0.08199925671357476,
           -0.08078044395292508,
           -0.08114768662273704,
           -0.08114768662273704,
           -0.08228751538227058,
           -0.08162216248826709,
           -0.08037081649304753,
           -0.07881551910861234
          ],
          [
           -0.08286553552341801,
           -0.08111446023687946,
           -0.08176031672071957,
           -0.08060318652372146,
           -0.08114768662273704,
           -0.08114768662273704,
           -0.08228751538227058,
           -0.08162216248826709,
           -0.08037081649304753,
           -0.07881551910861234
          ]
         ]
        }
       ],
       "layout": {
        "height": 578,
        "legend": {
         "orientation": "h",
         "traceorder": "normal",
         "x": 1,
         "xanchor": "right",
         "y": 1.02,
         "yanchor": "bottom"
        },
        "margin": {
         "b": 30,
         "l": 30,
         "r": 30,
         "t": 30
        },
        "sliders": [
         {
          "active": 0,
          "currentvalue": {
           "prefix": "symbol: "
          },
          "pad": {
           "t": 50
          },
          "steps": [
           {
            "args": [
             {
              "visible": [
               true,
               false
              ]
             },
             {}
            ],
            "label": "BTC-USD",
            "method": "update"
           },
           {
            "args": [
             {
              "visible": [
               false,
               true
              ]
             },
             {}
            ],
            "label": "ETH-USD",
            "method": "update"
           }
          ]
         }
        ],
        "template": {
         "data": {
          "bar": [
           {
            "error_x": {
             "color": "#2a3f5f"
            },
            "error_y": {
             "color": "#2a3f5f"
            },
            "marker": {
             "line": {
              "color": "#E5ECF6",
              "width": 0.5
             }
            },
            "type": "bar"
           }
          ],
          "barpolar": [
           {
            "marker": {
             "line": {
              "color": "#E5ECF6",
              "width": 0.5
             }
            },
            "type": "barpolar"
           }
          ],
          "carpet": [
           {
            "aaxis": {
             "endlinecolor": "#2a3f5f",
             "gridcolor": "white",
             "linecolor": "white",
             "minorgridcolor": "white",
             "startlinecolor": "#2a3f5f"
            },
            "baxis": {
             "endlinecolor": "#2a3f5f",
             "gridcolor": "white",
             "linecolor": "white",
             "minorgridcolor": "white",
             "startlinecolor": "#2a3f5f"
            },
            "type": "carpet"
           }
          ],
          "choropleth": [
           {
            "colorbar": {
             "outlinewidth": 0,
             "ticks": ""
            },
            "type": "choropleth"
           }
          ],
          "contour": [
           {
            "colorbar": {
             "outlinewidth": 0,
             "ticks": ""
            },
            "colorscale": [
             [
              0,
              "#0d0887"
             ],
             [
              0.1111111111111111,
              "#46039f"
             ],
             [
              0.2222222222222222,
              "#7201a8"
             ],
             [
              0.3333333333333333,
              "#9c179e"
             ],
             [
              0.4444444444444444,
              "#bd3786"
             ],
             [
              0.5555555555555556,
              "#d8576b"
             ],
             [
              0.6666666666666666,
              "#ed7953"
             ],
             [
              0.7777777777777778,
              "#fb9f3a"
             ],
             [
              0.8888888888888888,
              "#fdca26"
             ],
             [
              1,
              "#f0f921"
             ]
            ],
            "type": "contour"
           }
          ],
          "contourcarpet": [
           {
            "colorbar": {
             "outlinewidth": 0,
             "ticks": ""
            },
            "type": "contourcarpet"
           }
          ],
          "heatmap": [
           {
            "colorbar": {
             "outlinewidth": 0,
             "ticks": ""
            },
            "colorscale": [
             [
              0,
              "#0d0887"
             ],
             [
              0.1111111111111111,
              "#46039f"
             ],
             [
              0.2222222222222222,
              "#7201a8"
             ],
             [
              0.3333333333333333,
              "#9c179e"
             ],
             [
              0.4444444444444444,
              "#bd3786"
             ],
             [
              0.5555555555555556,
              "#d8576b"
             ],
             [
              0.6666666666666666,
              "#ed7953"
             ],
             [
              0.7777777777777778,
              "#fb9f3a"
             ],
             [
              0.8888888888888888,
              "#fdca26"
             ],
             [
              1,
              "#f0f921"
             ]
            ],
            "type": "heatmap"
           }
          ],
          "heatmapgl": [
           {
            "colorbar": {
             "outlinewidth": 0,
             "ticks": ""
            },
            "colorscale": [
             [
              0,
              "#0d0887"
             ],
             [
              0.1111111111111111,
              "#46039f"
             ],
             [
              0.2222222222222222,
              "#7201a8"
             ],
             [
              0.3333333333333333,
              "#9c179e"
             ],
             [
              0.4444444444444444,
              "#bd3786"
             ],
             [
              0.5555555555555556,
              "#d8576b"
             ],
             [
              0.6666666666666666,
              "#ed7953"
             ],
             [
              0.7777777777777778,
              "#fb9f3a"
             ],
             [
              0.8888888888888888,
              "#fdca26"
             ],
             [
              1,
              "#f0f921"
             ]
            ],
            "type": "heatmapgl"
           }
          ],
          "histogram": [
           {
            "marker": {
             "colorbar": {
              "outlinewidth": 0,
              "ticks": ""
             }
            },
            "type": "histogram"
           }
          ],
          "histogram2d": [
           {
            "colorbar": {
             "outlinewidth": 0,
             "ticks": ""
            },
            "colorscale": [
             [
              0,
              "#0d0887"
             ],
             [
              0.1111111111111111,
              "#46039f"
             ],
             [
              0.2222222222222222,
              "#7201a8"
             ],
             [
              0.3333333333333333,
              "#9c179e"
             ],
             [
              0.4444444444444444,
              "#bd3786"
             ],
             [
              0.5555555555555556,
              "#d8576b"
             ],
             [
              0.6666666666666666,
              "#ed7953"
             ],
             [
              0.7777777777777778,
              "#fb9f3a"
             ],
             [
              0.8888888888888888,
              "#fdca26"
             ],
             [
              1,
              "#f0f921"
             ]
            ],
            "type": "histogram2d"
           }
          ],
          "histogram2dcontour": [
           {
            "colorbar": {
             "outlinewidth": 0,
             "ticks": ""
            },
            "colorscale": [
             [
              0,
              "#0d0887"
             ],
             [
              0.1111111111111111,
              "#46039f"
             ],
             [
              0.2222222222222222,
              "#7201a8"
             ],
             [
              0.3333333333333333,
              "#9c179e"
             ],
             [
              0.4444444444444444,
              "#bd3786"
             ],
             [
              0.5555555555555556,
              "#d8576b"
             ],
             [
              0.6666666666666666,
              "#ed7953"
             ],
             [
              0.7777777777777778,
              "#fb9f3a"
             ],
             [
              0.8888888888888888,
              "#fdca26"
             ],
             [
              1,
              "#f0f921"
             ]
            ],
            "type": "histogram2dcontour"
           }
          ],
          "mesh3d": [
           {
            "colorbar": {
             "outlinewidth": 0,
             "ticks": ""
            },
            "type": "mesh3d"
           }
          ],
          "parcoords": [
           {
            "line": {
             "colorbar": {
              "outlinewidth": 0,
              "ticks": ""
             }
            },
            "type": "parcoords"
           }
          ],
          "pie": [
           {
            "automargin": true,
            "type": "pie"
           }
          ],
          "scatter": [
           {
            "marker": {
             "colorbar": {
              "outlinewidth": 0,
              "ticks": ""
             }
            },
            "type": "scatter"
           }
          ],
          "scatter3d": [
           {
            "line": {
             "colorbar": {
              "outlinewidth": 0,
              "ticks": ""
             }
            },
            "marker": {
             "colorbar": {
              "outlinewidth": 0,
              "ticks": ""
             }
            },
            "type": "scatter3d"
           }
          ],
          "scattercarpet": [
           {
            "marker": {
             "colorbar": {
              "outlinewidth": 0,
              "ticks": ""
             }
            },
            "type": "scattercarpet"
           }
          ],
          "scattergeo": [
           {
            "marker": {
             "colorbar": {
              "outlinewidth": 0,
              "ticks": ""
             }
            },
            "type": "scattergeo"
           }
          ],
          "scattergl": [
           {
            "marker": {
             "colorbar": {
              "outlinewidth": 0,
              "ticks": ""
             }
            },
            "type": "scattergl"
           }
          ],
          "scattermapbox": [
           {
            "marker": {
             "colorbar": {
              "outlinewidth": 0,
              "ticks": ""
             }
            },
            "type": "scattermapbox"
           }
          ],
          "scatterpolar": [
           {
            "marker": {
             "colorbar": {
              "outlinewidth": 0,
              "ticks": ""
             }
            },
            "type": "scatterpolar"
           }
          ],
          "scatterpolargl": [
           {
            "marker": {
             "colorbar": {
              "outlinewidth": 0,
              "ticks": ""
             }
            },
            "type": "scatterpolargl"
           }
          ],
          "scatterternary": [
           {
            "marker": {
             "colorbar": {
              "outlinewidth": 0,
              "ticks": ""
             }
            },
            "type": "scatterternary"
           }
          ],
          "surface": [
           {
            "colorbar": {
             "outlinewidth": 0,
             "ticks": ""
            },
            "colorscale": [
             [
              0,
              "#0d0887"
             ],
             [
              0.1111111111111111,
              "#46039f"
             ],
             [
              0.2222222222222222,
              "#7201a8"
             ],
             [
              0.3333333333333333,
              "#9c179e"
             ],
             [
              0.4444444444444444,
              "#bd3786"
             ],
             [
              0.5555555555555556,
              "#d8576b"
             ],
             [
              0.6666666666666666,
              "#ed7953"
             ],
             [
              0.7777777777777778,
              "#fb9f3a"
             ],
             [
              0.8888888888888888,
              "#fdca26"
             ],
             [
              1,
              "#f0f921"
             ]
            ],
            "type": "surface"
           }
          ],
          "table": [
           {
            "cells": {
             "fill": {
              "color": "#EBF0F8"
             },
             "line": {
              "color": "white"
             }
            },
            "header": {
             "fill": {
              "color": "#C8D4E3"
             },
             "line": {
              "color": "white"
             }
            },
            "type": "table"
           }
          ]
         },
         "layout": {
          "annotationdefaults": {
           "arrowcolor": "#2a3f5f",
           "arrowhead": 0,
           "arrowwidth": 1
          },
          "coloraxis": {
           "colorbar": {
            "outlinewidth": 0,
            "ticks": ""
           }
          },
          "colorscale": {
           "diverging": [
            [
             0,
             "#8e0152"
            ],
            [
             0.1,
             "#c51b7d"
            ],
            [
             0.2,
             "#de77ae"
            ],
            [
             0.3,
             "#f1b6da"
            ],
            [
             0.4,
             "#fde0ef"
            ],
            [
             0.5,
             "#f7f7f7"
            ],
            [
             0.6,
             "#e6f5d0"
            ],
            [
             0.7,
             "#b8e186"
            ],
            [
             0.8,
             "#7fbc41"
            ],
            [
             0.9,
             "#4d9221"
            ],
            [
             1,
             "#276419"
            ]
           ],
           "sequential": [
            [
             0,
             "#0d0887"
            ],
            [
             0.1111111111111111,
             "#46039f"
            ],
            [
             0.2222222222222222,
             "#7201a8"
            ],
            [
             0.3333333333333333,
             "#9c179e"
            ],
            [
             0.4444444444444444,
             "#bd3786"
            ],
            [
             0.5555555555555556,
             "#d8576b"
            ],
            [
             0.6666666666666666,
             "#ed7953"
            ],
            [
             0.7777777777777778,
             "#fb9f3a"
            ],
            [
             0.8888888888888888,
             "#fdca26"
            ],
            [
             1,
             "#f0f921"
            ]
           ],
           "sequentialminus": [
            [
             0,
             "#0d0887"
            ],
            [
             0.1111111111111111,
             "#46039f"
            ],
            [
             0.2222222222222222,
             "#7201a8"
            ],
            [
             0.3333333333333333,
             "#9c179e"
            ],
            [
             0.4444444444444444,
             "#bd3786"
            ],
            [
             0.5555555555555556,
             "#d8576b"
            ],
            [
             0.6666666666666666,
             "#ed7953"
            ],
            [
             0.7777777777777778,
             "#fb9f3a"
            ],
            [
             0.8888888888888888,
             "#fdca26"
            ],
            [
             1,
             "#f0f921"
            ]
           ]
          },
          "colorway": [
           "#1f77b4",
           "#ff7f0e",
           "#2ca02c",
           "#dc3912",
           "#9467bd",
           "#8c564b",
           "#e377c2",
           "#7f7f7f",
           "#bcbd22",
           "#17becf"
          ],
          "font": {
           "color": "#2a3f5f"
          },
          "geo": {
           "bgcolor": "white",
           "lakecolor": "white",
           "landcolor": "#E5ECF6",
           "showlakes": true,
           "showland": true,
           "subunitcolor": "white"
          },
          "hoverlabel": {
           "align": "left"
          },
          "hovermode": "closest",
          "mapbox": {
           "style": "light"
          },
          "paper_bgcolor": "white",
          "plot_bgcolor": "#E5ECF6",
          "polar": {
           "angularaxis": {
            "gridcolor": "white",
            "linecolor": "white",
            "ticks": ""
           },
           "bgcolor": "#E5ECF6",
           "radialaxis": {
            "gridcolor": "white",
            "linecolor": "white",
            "ticks": ""
           }
          },
          "scene": {
           "xaxis": {
            "backgroundcolor": "#E5ECF6",
            "gridcolor": "white",
            "gridwidth": 2,
            "linecolor": "white",
            "showbackground": true,
            "ticks": "",
            "zerolinecolor": "white"
           },
           "yaxis": {
            "backgroundcolor": "#E5ECF6",
            "gridcolor": "white",
            "gridwidth": 2,
            "linecolor": "white",
            "showbackground": true,
            "ticks": "",
            "zerolinecolor": "white"
           },
           "zaxis": {
            "backgroundcolor": "#E5ECF6",
            "gridcolor": "white",
            "gridwidth": 2,
            "linecolor": "white",
            "showbackground": true,
            "ticks": "",
            "zerolinecolor": "white"
           }
          },
          "shapedefaults": {
           "line": {
            "color": "#2a3f5f"
           }
          },
          "ternary": {
           "aaxis": {
            "gridcolor": "white",
            "linecolor": "white",
            "ticks": ""
           },
           "baxis": {
            "gridcolor": "white",
            "linecolor": "white",
            "ticks": ""
           },
           "bgcolor": "#E5ECF6",
           "caxis": {
            "gridcolor": "white",
            "linecolor": "white",
            "ticks": ""
           }
          },
          "title": {
           "x": 0.05
          },
          "xaxis": {
           "automargin": true,
           "gridcolor": "white",
           "linecolor": "white",
           "ticks": "",
           "title": {
            "standoff": 15
           },
           "zerolinecolor": "white",
           "zerolinewidth": 2
          },
          "yaxis": {
           "automargin": true,
           "gridcolor": "white",
           "linecolor": "white",
           "ticks": "",
           "title": {
            "standoff": 15
           },
           "zerolinecolor": "white",
           "zerolinewidth": 2
          }
         }
        },
        "width": 583,
        "xaxis": {
         "title": {
          "text": "comb_rsi_window"
         }
        },
        "yaxis": {
         "title": {
          "text": "comb_ma_window"
         }
        }
       }
      }
     },
     "metadata": {},
     "output_type": "display_data"
    }
   ],
   "source": [
    "fig = returns.vbt.heatmap(x_level = \"comb_rsi_window\",\n",
    "                          y_level = \"comb_ma_window\",\n",
    "                          slider_level = 'symbol')\n",
    "fig.show()"
   ]
  },
  {
   "cell_type": "code",
   "execution_count": null,
   "metadata": {},
   "outputs": [],
   "source": []
  }
 ],
 "metadata": {
  "kernelspec": {
   "display_name": "Bruno_proj",
   "language": "python",
   "name": "python3"
  },
  "language_info": {
   "codemirror_mode": {
    "name": "ipython",
    "version": 3
   },
   "file_extension": ".py",
   "mimetype": "text/x-python",
   "name": "python",
   "nbconvert_exporter": "python",
   "pygments_lexer": "ipython3",
   "version": "3.9.16"
  },
  "orig_nbformat": 4
 },
 "nbformat": 4,
 "nbformat_minor": 2
}
