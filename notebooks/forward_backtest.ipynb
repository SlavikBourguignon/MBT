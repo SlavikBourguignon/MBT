{
 "cells": [
  {
   "cell_type": "code",
   "execution_count": 1,
   "metadata": {},
   "outputs": [
    {
     "name": "stderr",
     "output_type": "stream",
     "text": [
      "c:\\Users\\slavi\\anaconda3\\envs\\Bruno_proj\\lib\\site-packages\\numba\\core\\decorators.py:262: NumbaDeprecationWarning: \u001b[1mnumba.generated_jit is deprecated. Please see the documentation at: https://numba.readthedocs.io/en/stable/reference/deprecation.html#deprecation-of-generated-jit for more information and advice on a suitable replacement.\u001b[0m\n",
      "  warnings.warn(msg, NumbaDeprecationWarning)\n"
     ]
    }
   ],
   "source": [
    "import pandas as pd\n",
    "import datetime\n",
    "import vectorbt as vbt\n",
    "import numpy as np\n",
    "import matplotlib.pyplot as plt\n",
    "import vbt_indicator\n",
    "import typing\n",
    "\n",
    "from importlib import reload\n",
    "reload(vbt_indicator)\n",
    "from vbt_indicator import *"
   ]
  },
  {
   "cell_type": "code",
   "execution_count": 28,
   "metadata": {},
   "outputs": [
    {
     "data": {
      "application/vnd.jupyter.widget-view+json": {
       "model_id": "7ab5fa158890470abf827ab2adad6a45",
       "version_major": 2,
       "version_minor": 0
      },
      "text/plain": [
       "0it [00:00, ?it/s]"
      ]
     },
     "metadata": {},
     "output_type": "display_data"
    },
    {
     "data": {
      "application/vnd.jupyter.widget-view+json": {
       "model_id": "43386387e2cd47d89646e0312e338f6a",
       "version_major": 2,
       "version_minor": 0
      },
      "text/plain": [
       "0it [00:00, ?it/s]"
      ]
     },
     "metadata": {},
     "output_type": "display_data"
    }
   ],
   "source": [
    "end_date = datetime.datetime.now()\n",
    "start_date = end_date - datetime.timedelta(days = 10)  #temps de download d'environ 30s / crtypto pour 10 jours de données en 1mn pour moi\n",
    "interval = '1d'\n",
    "list_assets = ['BTCUSDT', 'ETHUSDT']  #Rajouter les cryptos à tester\n",
    "price = vbt.BinanceData.download(list_assets,\n",
    "                                interval = interval,\n",
    "                                start = start_date,\n",
    "                                end = end_date,\n",
    "                                missing_index= 'drop').get([ 'Close', 'Open'])"
   ]
  },
  {
   "cell_type": "code",
   "execution_count": 29,
   "metadata": {},
   "outputs": [
    {
     "data": {
      "text/plain": [
       "(symbol                      BTCUSDT  ETHUSDT\n",
       " Open time                                   \n",
       " 2023-05-12 00:00:00+00:00  26795.01  1807.45\n",
       " 2023-05-13 00:00:00+00:00  26775.28  1795.11\n",
       " 2023-05-14 00:00:00+00:00  26917.62  1799.21\n",
       " 2023-05-15 00:00:00+00:00  27162.14  1816.20\n",
       " 2023-05-16 00:00:00+00:00  27033.84  1824.21\n",
       " 2023-05-17 00:00:00+00:00  27405.61  1822.12\n",
       " 2023-05-18 00:00:00+00:00  26821.28  1800.56\n",
       " 2023-05-19 00:00:00+00:00  26880.26  1812.32\n",
       " 2023-05-20 00:00:00+00:00  27102.43  1819.42\n",
       " 2023-05-21 00:00:00+00:00  26737.45  1799.90,\n",
       " symbol                      BTCUSDT  ETHUSDT\n",
       " Open time                                   \n",
       " 2023-05-12 00:00:00+00:00  26968.61  1794.31\n",
       " 2023-05-13 00:00:00+00:00  26795.01  1807.45\n",
       " 2023-05-14 00:00:00+00:00  26775.27  1795.12\n",
       " 2023-05-15 00:00:00+00:00  26917.61  1799.20\n",
       " 2023-05-16 00:00:00+00:00  27162.15  1816.21\n",
       " 2023-05-17 00:00:00+00:00  27033.85  1824.21\n",
       " 2023-05-18 00:00:00+00:00  27405.62  1822.12\n",
       " 2023-05-19 00:00:00+00:00  26821.28  1800.56\n",
       " 2023-05-20 00:00:00+00:00  26880.26  1812.31\n",
       " 2023-05-21 00:00:00+00:00  27102.42  1819.42)"
      ]
     },
     "execution_count": 29,
     "metadata": {},
     "output_type": "execute_result"
    }
   ],
   "source": [
    "price"
   ]
  },
  {
   "cell_type": "code",
   "execution_count": null,
   "metadata": {},
   "outputs": [],
   "source": [
    "class DataSpec:\n",
    "    def __init__(self, \n",
    "                 symbols: typing.Union[typing.List[str], str],\n",
    "                 interval : str, \n",
    "                 missing_index : str = 'drop', \n",
    "                 to_get : typing.Optional[typing.List[str]] = None):\n",
    "        self.symbols = symbols\n",
    "        self.interval = interval\n",
    "        self.missing_index = missing_index\n",
    "        self.to_get = to_get\n"
   ]
  },
  {
   "cell_type": "code",
   "execution_count": null,
   "metadata": {},
   "outputs": [],
   "source": [
    "class StratSpec :\n",
    "    def __init__(self, \n",
    "                 computeIndicator, \n",
    "                 computeEntries, \n",
    "                 computeExits, \n",
    "                 indicatorParams,\n",
    "                 indicatorInputs,\n",
    "                 entriesInputs,\n",
    "                 exitsInputs):\n",
    "        self.computeIndicator = computeIndicator\n",
    "        self.computeEntries = computeEntries\n",
    "        self.computeExits = computeExits\n",
    "        self.indicatorsParams = indicatorParams\n",
    "        self.indcatorInputs = indicatorInputs\n",
    "        self.entriesInputs = entriesInputs\n",
    "        self.exitsInputs = exitsInputs\n",
    "    "
   ]
  },
  {
   "cell_type": "code",
   "execution_count": 16,
   "metadata": {},
   "outputs": [],
   "source": [
    "class ForwardBacktest:\n",
    "\n",
    "    def __init__(self, startBacktest : np.datetime64, \n",
    "                 endBacktest : np.datetime64, \n",
    "                 dataSpec : DataSpec,\n",
    "                 stratSpec : StratSpec,\n",
    "                 optimizingWindow : np.timedelta64 = np.timedelta64(2, 'M'),\n",
    "                 runingWindow : np.timedelta64 = np.timedelta64(1, 'M'), \n",
    "                 dataInstance : vbt.data.base.Metadata = vbt.BinanceData):\n",
    "\n",
    "        self.__startBacktest = startBacktest\n",
    "        self.__endBacktest = endBacktest\n",
    "        self.__dataInstance = dataInstance\n",
    "        self.__dataSpec = dataSpec\n",
    "        self.__stratSpec = stratSpec\n",
    "        self.__optimizingWindow = optimizingWindow\n",
    "        self.__runingWindow = runingWindow\n",
    "\n",
    "\n",
    "    \n",
    "    def _getPrice(self, start, end):\n",
    "        return self.__dataInstance.download(symbols = self.__dataSpec.symbols,\n",
    "                                            interval = self.__dataSpec.interval,\n",
    "                                            start = start,\n",
    "                                            end = end, \n",
    "                                            missing_index = self.__dataSpec.missing_index ).get(self.__dataSpec.to_get)\n",
    "    \n",
    "\n",
    "    def _localOptim(self, start, end): \n",
    "        \n"
   ]
  }
 ],
 "metadata": {
  "kernelspec": {
   "display_name": "Bruno_proj",
   "language": "python",
   "name": "python3"
  },
  "language_info": {
   "codemirror_mode": {
    "name": "ipython",
    "version": 3
   },
   "file_extension": ".py",
   "mimetype": "text/x-python",
   "name": "python",
   "nbconvert_exporter": "python",
   "pygments_lexer": "ipython3",
   "version": "3.9.16"
  },
  "orig_nbformat": 4
 },
 "nbformat": 4,
 "nbformat_minor": 2
}
