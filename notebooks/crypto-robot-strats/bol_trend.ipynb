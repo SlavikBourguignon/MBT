{
 "cells": [
  {
   "cell_type": "code",
   "execution_count": 1,
   "metadata": {},
   "outputs": [
    {
     "name": "stderr",
     "output_type": "stream",
     "text": [
      "C:\\Users\\slavi\\anaconda3\\envs\\Bruno_proj\\lib\\site-packages\\numba\\core\\decorators.py:262: NumbaDeprecationWarning: \u001b[1mnumba.generated_jit is deprecated. Please see the documentation at: https://numba.readthedocs.io/en/stable/reference/deprecation.html#deprecation-of-generated-jit for more information and advice on a suitable replacement.\u001b[0m\n",
      "  warnings.warn(msg, NumbaDeprecationWarning)\n"
     ]
    }
   ],
   "source": [
    "import pandas as pd\n",
    "import datetime, pytz\n",
    "import vectorbt as vbt\n",
    "import numpy as np\n",
    "import matplotlib.pyplot as plt\n",
    "import json\n",
    "\n",
    "import talib\n",
    "import pandas_ta\n",
    "import time\n",
    "\n",
    "from importlib import reload\n",
    "\n",
    "\n",
    "import sys \n",
    "sys.path.append('../../modules/')\n",
    "\n",
    "from forwardtest import ForwardTest\n",
    "from vbt_indicator import Indicators\n",
    "\n"
   ]
  },
  {
   "cell_type": "code",
   "execution_count": 30,
   "metadata": {},
   "outputs": [],
   "source": [
    "def boltrend(Close, window, std, minspread, emawindow):\n",
    "    bbands = vbt.talib('BBANDS').run(Close, window, std, std)\n",
    "    rel_spread = (pd.Series(bbands.upperband.to_numpy().flatten() / bbands.lowerband.to_numpy().flatten()).shift(1).fillna(0).to_numpy() - 1) * 100\n",
    "    ema = vbt.talib('EMA').run(Close, emawindow).real.to_numpy()\n",
    "\n",
    "    entries = bbands.upperband_crossed_below(Close).to_numpy().flatten() & (rel_spread > minspread).flatten() & (Close > ema).flatten()\n",
    "    exits = Close < bbands.middleband\n",
    "\n",
    "    return entries, exits\n",
    "\n",
    "BolTrend = vbt.IndicatorFactory(\n",
    "    class_name= 'BolTrend',\n",
    "    short_name = 'BT',\n",
    "    input_names = [\"Close\"] ,\n",
    "    param_names = [\"window\", \"std\", \"minspread\", \"emawindow\"],\n",
    "    output_names= [\"entries\", \"exits\"]\n",
    "    ).from_apply_func(boltrend)"
   ]
  },
  {
   "cell_type": "code",
   "execution_count": 18,
   "metadata": {},
   "outputs": [
    {
     "data": {
      "application/vnd.jupyter.widget-view+json": {
       "model_id": "6fe36ff9421f422e807ac500594350dc",
       "version_major": 2,
       "version_minor": 0
      },
      "text/plain": [
       "0it [00:00, ?it/s]"
      ]
     },
     "metadata": {},
     "output_type": "display_data"
    }
   ],
   "source": [
    "data  = vbt.BinanceData.download('BTCUSDT', start = datetime.datetime(2023, 1,1)).get('Close')"
   ]
  },
  {
   "cell_type": "code",
   "execution_count": 27,
   "metadata": {},
   "outputs": [
    {
     "name": "stdout",
     "output_type": "stream",
     "text": [
      "(200, 1)\n",
      "(200, 1)\n",
      "(200,)\n",
      "(200, 1)\n"
     ]
    },
    {
     "data": {
      "text/plain": [
       "<vectorbt.indicators.factory.BolTrend at 0x1dc9f823d60>"
      ]
     },
     "execution_count": 27,
     "metadata": {},
     "output_type": "execute_result"
    }
   ],
   "source": [
    "BolTrend.run(data,  100, 2.25, 0, 500)"
   ]
  },
  {
   "cell_type": "code",
   "execution_count": 28,
   "metadata": {},
   "outputs": [],
   "source": [
    "params = {\n",
    "    'backtest': {\n",
    "        'start': '2017-10-1',\n",
    "        'end': '2018-1-1',\n",
    "        'length': {\n",
    "            'weeks': 4  #durée pendant laquelle on optimise les paramètres\n",
    "        },\n",
    "        'forward': {\n",
    "            'weeks': 2  #durée pendant laquelle on joue les paramètres optimisés\n",
    "        },\n",
    "        \n",
    "    },\n",
    "    'strat':{\n",
    "        'download_params': {\n",
    "            'symbols': 'BTCUSDT',\n",
    "            'interval': '1h',\n",
    "            'missing_index': 'drop'            \n",
    "        },\n",
    "        'get_params': {\n",
    "            'column': ['Close']\n",
    "        },\n",
    "        'run_params': { \n",
    "            'window': {'start': 50, 'stop': 150, 'step': 10},\n",
    "            'std': {'start': 1.5, 'stop': 3, 'step': 0.25},\n",
    "            'minspread': {'start': 0, 'stop': 5, 'step': 1},\n",
    "            'emawindow': {'start': 100, 'stop': 600, 'step': 100},\n",
    "            'param_product': 'True'\n",
    "        }, \n",
    "    },\n",
    "    'portfolio': {'freq': 'H' ,\n",
    "                  'fees' : 0.1/100,\n",
    "                  'size_type': 'Percent',\n",
    "                  'size': .1} #proportion du portefeuille à investir dans chaque trade\n",
    "}\n",
    "\n"
   ]
  },
  {
   "cell_type": "code",
   "execution_count": 31,
   "metadata": {},
   "outputs": [
    {
     "data": {
      "application/vnd.jupyter.widget-view+json": {
       "model_id": "89fe5b904cba4b06920bf421cf2a46b3",
       "version_major": 2,
       "version_minor": 0
      },
      "text/plain": [
       "0it [00:00, ?it/s]"
      ]
     },
     "metadata": {},
     "output_type": "display_data"
    },
    {
     "data": {
      "application/vnd.jupyter.widget-view+json": {
       "model_id": "67b9e8770d194b16907eabc5cd8750e2",
       "version_major": 2,
       "version_minor": 0
      },
      "text/plain": [
       "0it [00:00, ?it/s]"
      ]
     },
     "metadata": {},
     "output_type": "display_data"
    },
    {
     "name": "stdout",
     "output_type": "stream",
     "text": [
      "Forward test between 2017-10-29 00:00:00+00:00 and 2017-11-12 00:00:00+00:00 finished at 2023-07-19 17:02:56.327200\n",
      "Cash: 1000.0\n"
     ]
    },
    {
     "data": {
      "application/vnd.jupyter.widget-view+json": {
       "model_id": "51eb1f45a940429c86207e2c480e6f82",
       "version_major": 2,
       "version_minor": 0
      },
      "text/plain": [
       "0it [00:00, ?it/s]"
      ]
     },
     "metadata": {},
     "output_type": "display_data"
    },
    {
     "ename": "ConnectionError",
     "evalue": "HTTPSConnectionPool(host='api.binance.com', port=443): Read timed out.",
     "output_type": "error",
     "traceback": [
      "\u001b[1;31m---------------------------------------------------------------------------\u001b[0m",
      "\u001b[1;31mtimeout\u001b[0m                                   Traceback (most recent call last)",
      "File \u001b[1;32m~\\AppData\\Roaming\\Python\\Python39\\site-packages\\urllib3\\response.py:360\u001b[0m, in \u001b[0;36mHTTPResponse._error_catcher\u001b[1;34m(self)\u001b[0m\n\u001b[0;32m    <a href='file:///c%3A/Users/slavi/AppData/Roaming/Python/Python39/site-packages/urllib3/response.py?line=358'>359</a>\u001b[0m \u001b[39mtry\u001b[39;00m:\n\u001b[1;32m--> <a href='file:///c%3A/Users/slavi/AppData/Roaming/Python/Python39/site-packages/urllib3/response.py?line=359'>360</a>\u001b[0m     \u001b[39myield\u001b[39;00m\n\u001b[0;32m    <a href='file:///c%3A/Users/slavi/AppData/Roaming/Python/Python39/site-packages/urllib3/response.py?line=361'>362</a>\u001b[0m \u001b[39mexcept\u001b[39;00m SocketTimeout:\n\u001b[0;32m    <a href='file:///c%3A/Users/slavi/AppData/Roaming/Python/Python39/site-packages/urllib3/response.py?line=362'>363</a>\u001b[0m     \u001b[39m# FIXME: Ideally we'd like to include the url in the ReadTimeoutError but\u001b[39;00m\n\u001b[0;32m    <a href='file:///c%3A/Users/slavi/AppData/Roaming/Python/Python39/site-packages/urllib3/response.py?line=363'>364</a>\u001b[0m     \u001b[39m# there is yet no clean way to get at it from this context.\u001b[39;00m\n",
      "File \u001b[1;32m~\\AppData\\Roaming\\Python\\Python39\\site-packages\\urllib3\\response.py:442\u001b[0m, in \u001b[0;36mHTTPResponse.read\u001b[1;34m(self, amt, decode_content, cache_content)\u001b[0m\n\u001b[0;32m    <a href='file:///c%3A/Users/slavi/AppData/Roaming/Python/Python39/site-packages/urllib3/response.py?line=440'>441</a>\u001b[0m cache_content \u001b[39m=\u001b[39m \u001b[39mFalse\u001b[39;00m\n\u001b[1;32m--> <a href='file:///c%3A/Users/slavi/AppData/Roaming/Python/Python39/site-packages/urllib3/response.py?line=441'>442</a>\u001b[0m data \u001b[39m=\u001b[39m \u001b[39mself\u001b[39;49m\u001b[39m.\u001b[39;49m_fp\u001b[39m.\u001b[39;49mread(amt)\n\u001b[0;32m    <a href='file:///c%3A/Users/slavi/AppData/Roaming/Python/Python39/site-packages/urllib3/response.py?line=442'>443</a>\u001b[0m \u001b[39mif\u001b[39;00m amt \u001b[39m!=\u001b[39m \u001b[39m0\u001b[39m \u001b[39mand\u001b[39;00m \u001b[39mnot\u001b[39;00m data:  \u001b[39m# Platform-specific: Buggy versions of Python.\u001b[39;00m\n\u001b[0;32m    <a href='file:///c%3A/Users/slavi/AppData/Roaming/Python/Python39/site-packages/urllib3/response.py?line=443'>444</a>\u001b[0m     \u001b[39m# Close the connection when no data is returned\u001b[39;00m\n\u001b[0;32m    <a href='file:///c%3A/Users/slavi/AppData/Roaming/Python/Python39/site-packages/urllib3/response.py?line=444'>445</a>\u001b[0m     \u001b[39m#\u001b[39;00m\n\u001b[1;32m   (...)\u001b[0m\n\u001b[0;32m    <a href='file:///c%3A/Users/slavi/AppData/Roaming/Python/Python39/site-packages/urllib3/response.py?line=448'>449</a>\u001b[0m     \u001b[39m# not properly close the connection in all cases. There is\u001b[39;00m\n\u001b[0;32m    <a href='file:///c%3A/Users/slavi/AppData/Roaming/Python/Python39/site-packages/urllib3/response.py?line=449'>450</a>\u001b[0m     \u001b[39m# no harm in redundantly calling close.\u001b[39;00m\n",
      "File \u001b[1;32m~\\anaconda3\\envs\\Bruno_proj\\lib\\http\\client.py:463\u001b[0m, in \u001b[0;36mHTTPResponse.read\u001b[1;34m(self, amt)\u001b[0m\n\u001b[0;32m    <a href='file:///c%3A/Users/slavi/anaconda3/envs/Bruno_proj/lib/http/client.py?line=461'>462</a>\u001b[0m b \u001b[39m=\u001b[39m \u001b[39mbytearray\u001b[39m(amt)\n\u001b[1;32m--> <a href='file:///c%3A/Users/slavi/anaconda3/envs/Bruno_proj/lib/http/client.py?line=462'>463</a>\u001b[0m n \u001b[39m=\u001b[39m \u001b[39mself\u001b[39;49m\u001b[39m.\u001b[39;49mreadinto(b)\n\u001b[0;32m    <a href='file:///c%3A/Users/slavi/anaconda3/envs/Bruno_proj/lib/http/client.py?line=463'>464</a>\u001b[0m \u001b[39mreturn\u001b[39;00m \u001b[39mmemoryview\u001b[39m(b)[:n]\u001b[39m.\u001b[39mtobytes()\n",
      "File \u001b[1;32m~\\anaconda3\\envs\\Bruno_proj\\lib\\http\\client.py:507\u001b[0m, in \u001b[0;36mHTTPResponse.readinto\u001b[1;34m(self, b)\u001b[0m\n\u001b[0;32m    <a href='file:///c%3A/Users/slavi/anaconda3/envs/Bruno_proj/lib/http/client.py?line=503'>504</a>\u001b[0m \u001b[39m# we do not use _safe_read() here because this may be a .will_close\u001b[39;00m\n\u001b[0;32m    <a href='file:///c%3A/Users/slavi/anaconda3/envs/Bruno_proj/lib/http/client.py?line=504'>505</a>\u001b[0m \u001b[39m# connection, and the user is reading more bytes than will be provided\u001b[39;00m\n\u001b[0;32m    <a href='file:///c%3A/Users/slavi/anaconda3/envs/Bruno_proj/lib/http/client.py?line=505'>506</a>\u001b[0m \u001b[39m# (for example, reading in 1k chunks)\u001b[39;00m\n\u001b[1;32m--> <a href='file:///c%3A/Users/slavi/anaconda3/envs/Bruno_proj/lib/http/client.py?line=506'>507</a>\u001b[0m n \u001b[39m=\u001b[39m \u001b[39mself\u001b[39;49m\u001b[39m.\u001b[39;49mfp\u001b[39m.\u001b[39;49mreadinto(b)\n\u001b[0;32m    <a href='file:///c%3A/Users/slavi/anaconda3/envs/Bruno_proj/lib/http/client.py?line=507'>508</a>\u001b[0m \u001b[39mif\u001b[39;00m \u001b[39mnot\u001b[39;00m n \u001b[39mand\u001b[39;00m b:\n\u001b[0;32m    <a href='file:///c%3A/Users/slavi/anaconda3/envs/Bruno_proj/lib/http/client.py?line=508'>509</a>\u001b[0m     \u001b[39m# Ideally, we would raise IncompleteRead if the content-length\u001b[39;00m\n\u001b[0;32m    <a href='file:///c%3A/Users/slavi/anaconda3/envs/Bruno_proj/lib/http/client.py?line=509'>510</a>\u001b[0m     \u001b[39m# wasn't satisfied, but it might break compatibility.\u001b[39;00m\n",
      "File \u001b[1;32m~\\anaconda3\\envs\\Bruno_proj\\lib\\socket.py:704\u001b[0m, in \u001b[0;36mSocketIO.readinto\u001b[1;34m(self, b)\u001b[0m\n\u001b[0;32m    <a href='file:///c%3A/Users/slavi/anaconda3/envs/Bruno_proj/lib/socket.py?line=702'>703</a>\u001b[0m \u001b[39mtry\u001b[39;00m:\n\u001b[1;32m--> <a href='file:///c%3A/Users/slavi/anaconda3/envs/Bruno_proj/lib/socket.py?line=703'>704</a>\u001b[0m     \u001b[39mreturn\u001b[39;00m \u001b[39mself\u001b[39;49m\u001b[39m.\u001b[39;49m_sock\u001b[39m.\u001b[39;49mrecv_into(b)\n\u001b[0;32m    <a href='file:///c%3A/Users/slavi/anaconda3/envs/Bruno_proj/lib/socket.py?line=704'>705</a>\u001b[0m \u001b[39mexcept\u001b[39;00m timeout:\n",
      "File \u001b[1;32m~\\anaconda3\\envs\\Bruno_proj\\lib\\ssl.py:1242\u001b[0m, in \u001b[0;36mSSLSocket.recv_into\u001b[1;34m(self, buffer, nbytes, flags)\u001b[0m\n\u001b[0;32m   <a href='file:///c%3A/Users/slavi/anaconda3/envs/Bruno_proj/lib/ssl.py?line=1238'>1239</a>\u001b[0m         \u001b[39mraise\u001b[39;00m \u001b[39mValueError\u001b[39;00m(\n\u001b[0;32m   <a href='file:///c%3A/Users/slavi/anaconda3/envs/Bruno_proj/lib/ssl.py?line=1239'>1240</a>\u001b[0m           \u001b[39m\"\u001b[39m\u001b[39mnon-zero flags not allowed in calls to recv_into() on \u001b[39m\u001b[39m%s\u001b[39;00m\u001b[39m\"\u001b[39m \u001b[39m%\u001b[39m\n\u001b[0;32m   <a href='file:///c%3A/Users/slavi/anaconda3/envs/Bruno_proj/lib/ssl.py?line=1240'>1241</a>\u001b[0m           \u001b[39mself\u001b[39m\u001b[39m.\u001b[39m\u001b[39m__class__\u001b[39m)\n\u001b[1;32m-> <a href='file:///c%3A/Users/slavi/anaconda3/envs/Bruno_proj/lib/ssl.py?line=1241'>1242</a>\u001b[0m     \u001b[39mreturn\u001b[39;00m \u001b[39mself\u001b[39;49m\u001b[39m.\u001b[39;49mread(nbytes, buffer)\n\u001b[0;32m   <a href='file:///c%3A/Users/slavi/anaconda3/envs/Bruno_proj/lib/ssl.py?line=1242'>1243</a>\u001b[0m \u001b[39melse\u001b[39;00m:\n",
      "File \u001b[1;32m~\\anaconda3\\envs\\Bruno_proj\\lib\\ssl.py:1100\u001b[0m, in \u001b[0;36mSSLSocket.read\u001b[1;34m(self, len, buffer)\u001b[0m\n\u001b[0;32m   <a href='file:///c%3A/Users/slavi/anaconda3/envs/Bruno_proj/lib/ssl.py?line=1098'>1099</a>\u001b[0m \u001b[39mif\u001b[39;00m buffer \u001b[39mis\u001b[39;00m \u001b[39mnot\u001b[39;00m \u001b[39mNone\u001b[39;00m:\n\u001b[1;32m-> <a href='file:///c%3A/Users/slavi/anaconda3/envs/Bruno_proj/lib/ssl.py?line=1099'>1100</a>\u001b[0m     \u001b[39mreturn\u001b[39;00m \u001b[39mself\u001b[39;49m\u001b[39m.\u001b[39;49m_sslobj\u001b[39m.\u001b[39;49mread(\u001b[39mlen\u001b[39;49m, buffer)\n\u001b[0;32m   <a href='file:///c%3A/Users/slavi/anaconda3/envs/Bruno_proj/lib/ssl.py?line=1100'>1101</a>\u001b[0m \u001b[39melse\u001b[39;00m:\n",
      "\u001b[1;31mtimeout\u001b[0m: The read operation timed out",
      "\nDuring handling of the above exception, another exception occurred:\n",
      "\u001b[1;31mReadTimeoutError\u001b[0m                          Traceback (most recent call last)",
      "File \u001b[1;32m~\\anaconda3\\envs\\Bruno_proj\\lib\\site-packages\\requests\\models.py:816\u001b[0m, in \u001b[0;36mResponse.iter_content.<locals>.generate\u001b[1;34m()\u001b[0m\n\u001b[0;32m    <a href='file:///c%3A/Users/slavi/anaconda3/envs/Bruno_proj/lib/site-packages/requests/models.py?line=814'>815</a>\u001b[0m \u001b[39mtry\u001b[39;00m:\n\u001b[1;32m--> <a href='file:///c%3A/Users/slavi/anaconda3/envs/Bruno_proj/lib/site-packages/requests/models.py?line=815'>816</a>\u001b[0m     \u001b[39myield from\u001b[39;00m \u001b[39mself\u001b[39m\u001b[39m.\u001b[39mraw\u001b[39m.\u001b[39mstream(chunk_size, decode_content\u001b[39m=\u001b[39m\u001b[39mTrue\u001b[39;00m)\n\u001b[0;32m    <a href='file:///c%3A/Users/slavi/anaconda3/envs/Bruno_proj/lib/site-packages/requests/models.py?line=816'>817</a>\u001b[0m \u001b[39mexcept\u001b[39;00m ProtocolError \u001b[39mas\u001b[39;00m e:\n",
      "File \u001b[1;32m~\\AppData\\Roaming\\Python\\Python39\\site-packages\\urllib3\\response.py:494\u001b[0m, in \u001b[0;36mHTTPResponse.stream\u001b[1;34m(self, amt, decode_content)\u001b[0m\n\u001b[0;32m    <a href='file:///c%3A/Users/slavi/AppData/Roaming/Python/Python39/site-packages/urllib3/response.py?line=492'>493</a>\u001b[0m \u001b[39mwhile\u001b[39;00m \u001b[39mnot\u001b[39;00m is_fp_closed(\u001b[39mself\u001b[39m\u001b[39m.\u001b[39m_fp):\n\u001b[1;32m--> <a href='file:///c%3A/Users/slavi/AppData/Roaming/Python/Python39/site-packages/urllib3/response.py?line=493'>494</a>\u001b[0m     data \u001b[39m=\u001b[39m \u001b[39mself\u001b[39;49m\u001b[39m.\u001b[39;49mread(amt\u001b[39m=\u001b[39;49mamt, decode_content\u001b[39m=\u001b[39;49mdecode_content)\n\u001b[0;32m    <a href='file:///c%3A/Users/slavi/AppData/Roaming/Python/Python39/site-packages/urllib3/response.py?line=495'>496</a>\u001b[0m     \u001b[39mif\u001b[39;00m data:\n",
      "File \u001b[1;32m~\\AppData\\Roaming\\Python\\Python39\\site-packages\\urllib3\\response.py:459\u001b[0m, in \u001b[0;36mHTTPResponse.read\u001b[1;34m(self, amt, decode_content, cache_content)\u001b[0m\n\u001b[0;32m    <a href='file:///c%3A/Users/slavi/AppData/Roaming/Python/Python39/site-packages/urllib3/response.py?line=452'>453</a>\u001b[0m             \u001b[39mif\u001b[39;00m \u001b[39mself\u001b[39m\u001b[39m.\u001b[39menforce_content_length \u001b[39mand\u001b[39;00m \u001b[39mself\u001b[39m\u001b[39m.\u001b[39mlength_remaining \u001b[39mnot\u001b[39;00m \u001b[39min\u001b[39;00m (\u001b[39m0\u001b[39m, \u001b[39mNone\u001b[39;00m):\n\u001b[0;32m    <a href='file:///c%3A/Users/slavi/AppData/Roaming/Python/Python39/site-packages/urllib3/response.py?line=453'>454</a>\u001b[0m                 \u001b[39m# This is an edge case that httplib failed to cover due\u001b[39;00m\n\u001b[0;32m    <a href='file:///c%3A/Users/slavi/AppData/Roaming/Python/Python39/site-packages/urllib3/response.py?line=454'>455</a>\u001b[0m                 \u001b[39m# to concerns of backward compatibility. We're\u001b[39;00m\n\u001b[0;32m    <a href='file:///c%3A/Users/slavi/AppData/Roaming/Python/Python39/site-packages/urllib3/response.py?line=455'>456</a>\u001b[0m                 \u001b[39m# addressing it here to make sure IncompleteRead is\u001b[39;00m\n\u001b[0;32m    <a href='file:///c%3A/Users/slavi/AppData/Roaming/Python/Python39/site-packages/urllib3/response.py?line=456'>457</a>\u001b[0m                 \u001b[39m# raised during streaming, so all calls with incorrect\u001b[39;00m\n\u001b[0;32m    <a href='file:///c%3A/Users/slavi/AppData/Roaming/Python/Python39/site-packages/urllib3/response.py?line=457'>458</a>\u001b[0m                 \u001b[39m# Content-Length are caught.\u001b[39;00m\n\u001b[1;32m--> <a href='file:///c%3A/Users/slavi/AppData/Roaming/Python/Python39/site-packages/urllib3/response.py?line=458'>459</a>\u001b[0m                 \u001b[39mraise\u001b[39;00m IncompleteRead(\u001b[39mself\u001b[39m\u001b[39m.\u001b[39m_fp_bytes_read, \u001b[39mself\u001b[39m\u001b[39m.\u001b[39mlength_remaining)\n\u001b[0;32m    <a href='file:///c%3A/Users/slavi/AppData/Roaming/Python/Python39/site-packages/urllib3/response.py?line=460'>461</a>\u001b[0m \u001b[39mif\u001b[39;00m data:\n",
      "File \u001b[1;32m~\\anaconda3\\envs\\Bruno_proj\\lib\\contextlib.py:137\u001b[0m, in \u001b[0;36m_GeneratorContextManager.__exit__\u001b[1;34m(self, typ, value, traceback)\u001b[0m\n\u001b[0;32m    <a href='file:///c%3A/Users/slavi/anaconda3/envs/Bruno_proj/lib/contextlib.py?line=135'>136</a>\u001b[0m \u001b[39mtry\u001b[39;00m:\n\u001b[1;32m--> <a href='file:///c%3A/Users/slavi/anaconda3/envs/Bruno_proj/lib/contextlib.py?line=136'>137</a>\u001b[0m     \u001b[39mself\u001b[39;49m\u001b[39m.\u001b[39;49mgen\u001b[39m.\u001b[39;49mthrow(typ, value, traceback)\n\u001b[0;32m    <a href='file:///c%3A/Users/slavi/anaconda3/envs/Bruno_proj/lib/contextlib.py?line=137'>138</a>\u001b[0m \u001b[39mexcept\u001b[39;00m \u001b[39mStopIteration\u001b[39;00m \u001b[39mas\u001b[39;00m exc:\n\u001b[0;32m    <a href='file:///c%3A/Users/slavi/anaconda3/envs/Bruno_proj/lib/contextlib.py?line=138'>139</a>\u001b[0m     \u001b[39m# Suppress StopIteration *unless* it's the same exception that\u001b[39;00m\n\u001b[0;32m    <a href='file:///c%3A/Users/slavi/anaconda3/envs/Bruno_proj/lib/contextlib.py?line=139'>140</a>\u001b[0m     \u001b[39m# was passed to throw().  This prevents a StopIteration\u001b[39;00m\n\u001b[0;32m    <a href='file:///c%3A/Users/slavi/anaconda3/envs/Bruno_proj/lib/contextlib.py?line=140'>141</a>\u001b[0m     \u001b[39m# raised inside the \"with\" statement from being suppressed.\u001b[39;00m\n",
      "File \u001b[1;32m~\\AppData\\Roaming\\Python\\Python39\\site-packages\\urllib3\\response.py:365\u001b[0m, in \u001b[0;36mHTTPResponse._error_catcher\u001b[1;34m(self)\u001b[0m\n\u001b[0;32m    <a href='file:///c%3A/Users/slavi/AppData/Roaming/Python/Python39/site-packages/urllib3/response.py?line=361'>362</a>\u001b[0m \u001b[39mexcept\u001b[39;00m SocketTimeout:\n\u001b[0;32m    <a href='file:///c%3A/Users/slavi/AppData/Roaming/Python/Python39/site-packages/urllib3/response.py?line=362'>363</a>\u001b[0m     \u001b[39m# FIXME: Ideally we'd like to include the url in the ReadTimeoutError but\u001b[39;00m\n\u001b[0;32m    <a href='file:///c%3A/Users/slavi/AppData/Roaming/Python/Python39/site-packages/urllib3/response.py?line=363'>364</a>\u001b[0m     \u001b[39m# there is yet no clean way to get at it from this context.\u001b[39;00m\n\u001b[1;32m--> <a href='file:///c%3A/Users/slavi/AppData/Roaming/Python/Python39/site-packages/urllib3/response.py?line=364'>365</a>\u001b[0m     \u001b[39mraise\u001b[39;00m ReadTimeoutError(\u001b[39mself\u001b[39m\u001b[39m.\u001b[39m_pool, \u001b[39mNone\u001b[39;00m, \u001b[39m'\u001b[39m\u001b[39mRead timed out.\u001b[39m\u001b[39m'\u001b[39m)\n\u001b[0;32m    <a href='file:///c%3A/Users/slavi/AppData/Roaming/Python/Python39/site-packages/urllib3/response.py?line=366'>367</a>\u001b[0m \u001b[39mexcept\u001b[39;00m BaseSSLError \u001b[39mas\u001b[39;00m e:\n\u001b[0;32m    <a href='file:///c%3A/Users/slavi/AppData/Roaming/Python/Python39/site-packages/urllib3/response.py?line=367'>368</a>\u001b[0m     \u001b[39m# FIXME: Is there a better way to differentiate between SSLErrors?\u001b[39;00m\n",
      "\u001b[1;31mReadTimeoutError\u001b[0m: HTTPSConnectionPool(host='api.binance.com', port=443): Read timed out.",
      "\nDuring handling of the above exception, another exception occurred:\n",
      "\u001b[1;31mConnectionError\u001b[0m                           Traceback (most recent call last)",
      "Cell \u001b[1;32mIn[31], line 3\u001b[0m\n\u001b[0;32m      1\u001b[0m indics \u001b[38;5;241m=\u001b[39m Indicators()\n\u001b[0;32m      2\u001b[0m test \u001b[38;5;241m=\u001b[39m ForwardTest(BolTrend, params)\n\u001b[1;32m----> 3\u001b[0m \u001b[43mtest\u001b[49m\u001b[38;5;241;43m.\u001b[39;49m\u001b[43mbacktest\u001b[49m\u001b[43m(\u001b[49m\u001b[43minit_cash\u001b[49m\u001b[38;5;241;43m=\u001b[39;49m\u001b[38;5;241;43m1000\u001b[39;49m\u001b[43m)\u001b[49m\n",
      "File \u001b[1;32mc:\\Users\\slavi\\Documents\\Dev\\vbt_projects\\notebooks\\crypto-robot-strats\\../../modules\\forwardtest.py:115\u001b[0m, in \u001b[0;36mForwardTest.backtest\u001b[1;34m(self, init_cash)\u001b[0m\n\u001b[0;32m    <a href='file:///c%3A/Users/slavi/Documents/Dev/vbt_projects/notebooks/crypto-robot-strats/../../modules/forwardtest.py?line=111'>112</a>\u001b[0m     end_forward \u001b[39m=\u001b[39m start_forward \u001b[39m+\u001b[39m datetime\u001b[39m.\u001b[39mtimedelta(\u001b[39m*\u001b[39m\u001b[39m*\u001b[39m\u001b[39mself\u001b[39m\u001b[39m.\u001b[39mparams[\u001b[39m'\u001b[39m\u001b[39mbacktest\u001b[39m\u001b[39m'\u001b[39m][\u001b[39m'\u001b[39m\u001b[39mforward\u001b[39m\u001b[39m'\u001b[39m])\n\u001b[0;32m    <a href='file:///c%3A/Users/slavi/Documents/Dev/vbt_projects/notebooks/crypto-robot-strats/../../modules/forwardtest.py?line=113'>114</a>\u001b[0m     \u001b[39m#get best params\u001b[39;00m\n\u001b[1;32m--> <a href='file:///c%3A/Users/slavi/Documents/Dev/vbt_projects/notebooks/crypto-robot-strats/../../modules/forwardtest.py?line=114'>115</a>\u001b[0m     tmp_best \u001b[39m=\u001b[39m \u001b[39mself\u001b[39;49m\u001b[39m.\u001b[39;49m_get_best_params(start, end)\n\u001b[0;32m    <a href='file:///c%3A/Users/slavi/Documents/Dev/vbt_projects/notebooks/crypto-robot-strats/../../modules/forwardtest.py?line=116'>117</a>\u001b[0m \u001b[39mreturn\u001b[39;00m cash\n",
      "File \u001b[1;32mc:\\Users\\slavi\\Documents\\Dev\\vbt_projects\\notebooks\\crypto-robot-strats\\../../modules\\forwardtest.py:48\u001b[0m, in \u001b[0;36mForwardTest._get_best_params\u001b[1;34m(self, start, end)\u001b[0m\n\u001b[0;32m     <a href='file:///c%3A/Users/slavi/Documents/Dev/vbt_projects/notebooks/crypto-robot-strats/../../modules/forwardtest.py?line=46'>47</a>\u001b[0m \u001b[39mdef\u001b[39;00m \u001b[39m_get_best_params\u001b[39m(\u001b[39mself\u001b[39m,start, end):\n\u001b[1;32m---> <a href='file:///c%3A/Users/slavi/Documents/Dev/vbt_projects/notebooks/crypto-robot-strats/../../modules/forwardtest.py?line=47'>48</a>\u001b[0m     tmp_data \u001b[39m=\u001b[39m vbt\u001b[39m.\u001b[39;49mBinanceData\u001b[39m.\u001b[39;49mdownload(start \u001b[39m=\u001b[39;49m start, end \u001b[39m=\u001b[39;49m end ,\n\u001b[0;32m     <a href='file:///c%3A/Users/slavi/Documents/Dev/vbt_projects/notebooks/crypto-robot-strats/../../modules/forwardtest.py?line=48'>49</a>\u001b[0m                                         symbols\u001b[39m=\u001b[39;49m \u001b[39mself\u001b[39;49m\u001b[39m.\u001b[39;49mparams_strat[\u001b[39m'\u001b[39;49m\u001b[39mdownload_params\u001b[39;49m\u001b[39m'\u001b[39;49m][\u001b[39m'\u001b[39;49m\u001b[39msymbols\u001b[39;49m\u001b[39m'\u001b[39;49m],\n\u001b[0;32m     <a href='file:///c%3A/Users/slavi/Documents/Dev/vbt_projects/notebooks/crypto-robot-strats/../../modules/forwardtest.py?line=49'>50</a>\u001b[0m                                         interval \u001b[39m=\u001b[39;49m \u001b[39mself\u001b[39;49m\u001b[39m.\u001b[39;49mparams_strat[\u001b[39m'\u001b[39;49m\u001b[39mdownload_params\u001b[39;49m\u001b[39m'\u001b[39;49m][\u001b[39m'\u001b[39;49m\u001b[39minterval\u001b[39;49m\u001b[39m'\u001b[39;49m])\u001b[39m.\u001b[39mget(\u001b[39m*\u001b[39m\u001b[39m*\u001b[39m\u001b[39mself\u001b[39m\u001b[39m.\u001b[39mparams_strat[\u001b[39m'\u001b[39m\u001b[39mget_params\u001b[39m\u001b[39m'\u001b[39m])\n\u001b[0;32m     <a href='file:///c%3A/Users/slavi/Documents/Dev/vbt_projects/notebooks/crypto-robot-strats/../../modules/forwardtest.py?line=50'>51</a>\u001b[0m     run_params \u001b[39m=\u001b[39m \u001b[39mself\u001b[39m\u001b[39m.\u001b[39m_get_run_params()\n\u001b[0;32m     <a href='file:///c%3A/Users/slavi/Documents/Dev/vbt_projects/notebooks/crypto-robot-strats/../../modules/forwardtest.py?line=51'>52</a>\u001b[0m     tmp_data \u001b[39m=\u001b[39m \u001b[39mself\u001b[39m\u001b[39m.\u001b[39m_prepare_data(tmp_data)\n",
      "File \u001b[1;32m~\\anaconda3\\envs\\Bruno_proj\\lib\\site-packages\\vectorbt\\data\\custom.py:414\u001b[0m, in \u001b[0;36mBinanceData.download\u001b[1;34m(cls, symbols, client, **kwargs)\u001b[0m\n\u001b[0;32m    <a href='file:///c%3A/Users/slavi/anaconda3/envs/Bruno_proj/lib/site-packages/vectorbt/data/custom.py?line=411'>412</a>\u001b[0m \u001b[39mif\u001b[39;00m client \u001b[39mis\u001b[39;00m \u001b[39mNone\u001b[39;00m:\n\u001b[0;32m    <a href='file:///c%3A/Users/slavi/anaconda3/envs/Bruno_proj/lib/site-packages/vectorbt/data/custom.py?line=412'>413</a>\u001b[0m     client \u001b[39m=\u001b[39m Client(\u001b[39m*\u001b[39m\u001b[39m*\u001b[39mclient_kwargs)\n\u001b[1;32m--> <a href='file:///c%3A/Users/slavi/anaconda3/envs/Bruno_proj/lib/site-packages/vectorbt/data/custom.py?line=413'>414</a>\u001b[0m \u001b[39mreturn\u001b[39;00m \u001b[39msuper\u001b[39m(BinanceData, \u001b[39mcls\u001b[39m)\u001b[39m.\u001b[39mdownload(symbols, client\u001b[39m=\u001b[39mclient, \u001b[39m*\u001b[39m\u001b[39m*\u001b[39mkwargs)\n",
      "File \u001b[1;32m~\\anaconda3\\envs\\Bruno_proj\\lib\\site-packages\\vectorbt\\data\\base.py:584\u001b[0m, in \u001b[0;36mData.download\u001b[1;34m(cls, symbols, tz_localize, tz_convert, missing_index, missing_columns, wrapper_kwargs, **kwargs)\u001b[0m\n\u001b[0;32m    <a href='file:///c%3A/Users/slavi/anaconda3/envs/Bruno_proj/lib/site-packages/vectorbt/data/base.py?line=580'>581</a>\u001b[0m     _kwargs \u001b[39m=\u001b[39m \u001b[39mcls\u001b[39m\u001b[39m.\u001b[39mselect_symbol_kwargs(s, kwargs)\n\u001b[0;32m    <a href='file:///c%3A/Users/slavi/anaconda3/envs/Bruno_proj/lib/site-packages/vectorbt/data/base.py?line=582'>583</a>\u001b[0m     \u001b[39m# Download data for this symbol\u001b[39;00m\n\u001b[1;32m--> <a href='file:///c%3A/Users/slavi/anaconda3/envs/Bruno_proj/lib/site-packages/vectorbt/data/base.py?line=583'>584</a>\u001b[0m     data[s] \u001b[39m=\u001b[39m \u001b[39mcls\u001b[39m\u001b[39m.\u001b[39mdownload_symbol(s, \u001b[39m*\u001b[39m\u001b[39m*\u001b[39m_kwargs)\n\u001b[0;32m    <a href='file:///c%3A/Users/slavi/anaconda3/envs/Bruno_proj/lib/site-packages/vectorbt/data/base.py?line=585'>586</a>\u001b[0m \u001b[39m# Create new instance from data\u001b[39;00m\n\u001b[0;32m    <a href='file:///c%3A/Users/slavi/anaconda3/envs/Bruno_proj/lib/site-packages/vectorbt/data/base.py?line=586'>587</a>\u001b[0m \u001b[39mreturn\u001b[39;00m \u001b[39mcls\u001b[39m\u001b[39m.\u001b[39mfrom_data(\n\u001b[0;32m    <a href='file:///c%3A/Users/slavi/anaconda3/envs/Bruno_proj/lib/site-packages/vectorbt/data/base.py?line=587'>588</a>\u001b[0m     data,\n\u001b[0;32m    <a href='file:///c%3A/Users/slavi/anaconda3/envs/Bruno_proj/lib/site-packages/vectorbt/data/base.py?line=588'>589</a>\u001b[0m     tz_localize\u001b[39m=\u001b[39mtz_localize,\n\u001b[1;32m   (...)\u001b[0m\n\u001b[0;32m    <a href='file:///c%3A/Users/slavi/anaconda3/envs/Bruno_proj/lib/site-packages/vectorbt/data/base.py?line=593'>594</a>\u001b[0m     download_kwargs\u001b[39m=\u001b[39mkwargs\n\u001b[0;32m    <a href='file:///c%3A/Users/slavi/anaconda3/envs/Bruno_proj/lib/site-packages/vectorbt/data/base.py?line=594'>595</a>\u001b[0m )\n",
      "File \u001b[1;32m~\\anaconda3\\envs\\Bruno_proj\\lib\\site-packages\\vectorbt\\data\\custom.py:478\u001b[0m, in \u001b[0;36mBinanceData.download_symbol\u001b[1;34m(cls, symbol, client, interval, start, end, delay, limit, show_progress, tqdm_kwargs)\u001b[0m\n\u001b[0;32m    <a href='file:///c%3A/Users/slavi/anaconda3/envs/Bruno_proj/lib/site-packages/vectorbt/data/custom.py?line=474'>475</a>\u001b[0m pbar\u001b[39m.\u001b[39mset_description(_ts_to_str(start_ts))\n\u001b[0;32m    <a href='file:///c%3A/Users/slavi/anaconda3/envs/Bruno_proj/lib/site-packages/vectorbt/data/custom.py?line=475'>476</a>\u001b[0m \u001b[39mwhile\u001b[39;00m \u001b[39mTrue\u001b[39;00m:\n\u001b[0;32m    <a href='file:///c%3A/Users/slavi/anaconda3/envs/Bruno_proj/lib/site-packages/vectorbt/data/custom.py?line=476'>477</a>\u001b[0m     \u001b[39m# Fetch the klines for the next interval\u001b[39;00m\n\u001b[1;32m--> <a href='file:///c%3A/Users/slavi/anaconda3/envs/Bruno_proj/lib/site-packages/vectorbt/data/custom.py?line=477'>478</a>\u001b[0m     next_data \u001b[39m=\u001b[39m client\u001b[39m.\u001b[39;49mget_klines(\n\u001b[0;32m    <a href='file:///c%3A/Users/slavi/anaconda3/envs/Bruno_proj/lib/site-packages/vectorbt/data/custom.py?line=478'>479</a>\u001b[0m         symbol\u001b[39m=\u001b[39;49msymbol,\n\u001b[0;32m    <a href='file:///c%3A/Users/slavi/anaconda3/envs/Bruno_proj/lib/site-packages/vectorbt/data/custom.py?line=479'>480</a>\u001b[0m         interval\u001b[39m=\u001b[39;49minterval,\n\u001b[0;32m    <a href='file:///c%3A/Users/slavi/anaconda3/envs/Bruno_proj/lib/site-packages/vectorbt/data/custom.py?line=480'>481</a>\u001b[0m         limit\u001b[39m=\u001b[39;49mlimit,\n\u001b[0;32m    <a href='file:///c%3A/Users/slavi/anaconda3/envs/Bruno_proj/lib/site-packages/vectorbt/data/custom.py?line=481'>482</a>\u001b[0m         startTime\u001b[39m=\u001b[39;49mnext_start_ts,\n\u001b[0;32m    <a href='file:///c%3A/Users/slavi/anaconda3/envs/Bruno_proj/lib/site-packages/vectorbt/data/custom.py?line=482'>483</a>\u001b[0m         endTime\u001b[39m=\u001b[39;49mend_ts\n\u001b[0;32m    <a href='file:///c%3A/Users/slavi/anaconda3/envs/Bruno_proj/lib/site-packages/vectorbt/data/custom.py?line=483'>484</a>\u001b[0m     )\n\u001b[0;32m    <a href='file:///c%3A/Users/slavi/anaconda3/envs/Bruno_proj/lib/site-packages/vectorbt/data/custom.py?line=484'>485</a>\u001b[0m     \u001b[39mif\u001b[39;00m \u001b[39mlen\u001b[39m(data) \u001b[39m>\u001b[39m \u001b[39m0\u001b[39m:\n\u001b[0;32m    <a href='file:///c%3A/Users/slavi/anaconda3/envs/Bruno_proj/lib/site-packages/vectorbt/data/custom.py?line=485'>486</a>\u001b[0m         next_data \u001b[39m=\u001b[39m \u001b[39mlist\u001b[39m(\u001b[39mfilter\u001b[39m(\u001b[39mlambda\u001b[39;00m d: next_start_ts \u001b[39m<\u001b[39m d[\u001b[39m0\u001b[39m] \u001b[39m<\u001b[39m end_ts, next_data))\n",
      "File \u001b[1;32m~\\anaconda3\\envs\\Bruno_proj\\lib\\site-packages\\binance\\client.py:918\u001b[0m, in \u001b[0;36mClient.get_klines\u001b[1;34m(self, **params)\u001b[0m\n\u001b[0;32m    <a href='file:///c%3A/Users/slavi/anaconda3/envs/Bruno_proj/lib/site-packages/binance/client.py?line=877'>878</a>\u001b[0m \u001b[39mdef\u001b[39;00m \u001b[39mget_klines\u001b[39m(\u001b[39mself\u001b[39m, \u001b[39m*\u001b[39m\u001b[39m*\u001b[39mparams) \u001b[39m-\u001b[39m\u001b[39m>\u001b[39m Dict:\n\u001b[0;32m    <a href='file:///c%3A/Users/slavi/anaconda3/envs/Bruno_proj/lib/site-packages/binance/client.py?line=878'>879</a>\u001b[0m \u001b[39m    \u001b[39m\u001b[39m\"\"\"Kline/candlestick bars for a symbol. Klines are uniquely identified by their open time.\u001b[39;00m\n\u001b[0;32m    <a href='file:///c%3A/Users/slavi/anaconda3/envs/Bruno_proj/lib/site-packages/binance/client.py?line=879'>880</a>\u001b[0m \n\u001b[0;32m    <a href='file:///c%3A/Users/slavi/anaconda3/envs/Bruno_proj/lib/site-packages/binance/client.py?line=880'>881</a>\u001b[0m \u001b[39m    https://binance-docs.github.io/apidocs/spot/en/#kline-candlestick-data\u001b[39;00m\n\u001b[1;32m   (...)\u001b[0m\n\u001b[0;32m    <a href='file:///c%3A/Users/slavi/anaconda3/envs/Bruno_proj/lib/site-packages/binance/client.py?line=915'>916</a>\u001b[0m \n\u001b[0;32m    <a href='file:///c%3A/Users/slavi/anaconda3/envs/Bruno_proj/lib/site-packages/binance/client.py?line=916'>917</a>\u001b[0m \u001b[39m    \"\"\"\u001b[39;00m\n\u001b[1;32m--> <a href='file:///c%3A/Users/slavi/anaconda3/envs/Bruno_proj/lib/site-packages/binance/client.py?line=917'>918</a>\u001b[0m     \u001b[39mreturn\u001b[39;00m \u001b[39mself\u001b[39;49m\u001b[39m.\u001b[39;49m_get(\u001b[39m'\u001b[39;49m\u001b[39mklines\u001b[39;49m\u001b[39m'\u001b[39;49m, data\u001b[39m=\u001b[39;49mparams, version\u001b[39m=\u001b[39;49m\u001b[39mself\u001b[39;49m\u001b[39m.\u001b[39;49mPRIVATE_API_VERSION)\n",
      "File \u001b[1;32m~\\anaconda3\\envs\\Bruno_proj\\lib\\site-packages\\binance\\client.py:414\u001b[0m, in \u001b[0;36mClient._get\u001b[1;34m(self, path, signed, version, **kwargs)\u001b[0m\n\u001b[0;32m    <a href='file:///c%3A/Users/slavi/anaconda3/envs/Bruno_proj/lib/site-packages/binance/client.py?line=412'>413</a>\u001b[0m \u001b[39mdef\u001b[39;00m \u001b[39m_get\u001b[39m(\u001b[39mself\u001b[39m, path, signed\u001b[39m=\u001b[39m\u001b[39mFalse\u001b[39;00m, version\u001b[39m=\u001b[39mBaseClient\u001b[39m.\u001b[39mPUBLIC_API_VERSION, \u001b[39m*\u001b[39m\u001b[39m*\u001b[39mkwargs):\n\u001b[1;32m--> <a href='file:///c%3A/Users/slavi/anaconda3/envs/Bruno_proj/lib/site-packages/binance/client.py?line=413'>414</a>\u001b[0m     \u001b[39mreturn\u001b[39;00m \u001b[39mself\u001b[39m\u001b[39m.\u001b[39m_request_api(\u001b[39m'\u001b[39m\u001b[39mget\u001b[39m\u001b[39m'\u001b[39m, path, signed, version, \u001b[39m*\u001b[39m\u001b[39m*\u001b[39mkwargs)\n",
      "File \u001b[1;32m~\\anaconda3\\envs\\Bruno_proj\\lib\\site-packages\\binance\\client.py:377\u001b[0m, in \u001b[0;36mClient._request_api\u001b[1;34m(self, method, path, signed, version, **kwargs)\u001b[0m\n\u001b[0;32m    <a href='file:///c%3A/Users/slavi/anaconda3/envs/Bruno_proj/lib/site-packages/binance/client.py?line=372'>373</a>\u001b[0m \u001b[39mdef\u001b[39;00m \u001b[39m_request_api\u001b[39m(\n\u001b[0;32m    <a href='file:///c%3A/Users/slavi/anaconda3/envs/Bruno_proj/lib/site-packages/binance/client.py?line=373'>374</a>\u001b[0m     \u001b[39mself\u001b[39m, method, path: \u001b[39mstr\u001b[39m, signed: \u001b[39mbool\u001b[39m \u001b[39m=\u001b[39m \u001b[39mFalse\u001b[39;00m, version\u001b[39m=\u001b[39mBaseClient\u001b[39m.\u001b[39mPUBLIC_API_VERSION, \u001b[39m*\u001b[39m\u001b[39m*\u001b[39mkwargs\n\u001b[0;32m    <a href='file:///c%3A/Users/slavi/anaconda3/envs/Bruno_proj/lib/site-packages/binance/client.py?line=374'>375</a>\u001b[0m ):\n\u001b[0;32m    <a href='file:///c%3A/Users/slavi/anaconda3/envs/Bruno_proj/lib/site-packages/binance/client.py?line=375'>376</a>\u001b[0m     uri \u001b[39m=\u001b[39m \u001b[39mself\u001b[39m\u001b[39m.\u001b[39m_create_api_uri(path, signed, version)\n\u001b[1;32m--> <a href='file:///c%3A/Users/slavi/anaconda3/envs/Bruno_proj/lib/site-packages/binance/client.py?line=376'>377</a>\u001b[0m     \u001b[39mreturn\u001b[39;00m \u001b[39mself\u001b[39m\u001b[39m.\u001b[39m_request(method, uri, signed, \u001b[39m*\u001b[39m\u001b[39m*\u001b[39mkwargs)\n",
      "File \u001b[1;32m~\\anaconda3\\envs\\Bruno_proj\\lib\\site-packages\\binance\\client.py:357\u001b[0m, in \u001b[0;36mClient._request\u001b[1;34m(self, method, uri, signed, force_params, **kwargs)\u001b[0m\n\u001b[0;32m    <a href='file:///c%3A/Users/slavi/anaconda3/envs/Bruno_proj/lib/site-packages/binance/client.py?line=352'>353</a>\u001b[0m \u001b[39mdef\u001b[39;00m \u001b[39m_request\u001b[39m(\u001b[39mself\u001b[39m, method, uri: \u001b[39mstr\u001b[39m, signed: \u001b[39mbool\u001b[39m, force_params: \u001b[39mbool\u001b[39m \u001b[39m=\u001b[39m \u001b[39mFalse\u001b[39;00m, \u001b[39m*\u001b[39m\u001b[39m*\u001b[39mkwargs):\n\u001b[0;32m    <a href='file:///c%3A/Users/slavi/anaconda3/envs/Bruno_proj/lib/site-packages/binance/client.py?line=354'>355</a>\u001b[0m     kwargs \u001b[39m=\u001b[39m \u001b[39mself\u001b[39m\u001b[39m.\u001b[39m_get_request_kwargs(method, signed, force_params, \u001b[39m*\u001b[39m\u001b[39m*\u001b[39mkwargs)\n\u001b[1;32m--> <a href='file:///c%3A/Users/slavi/anaconda3/envs/Bruno_proj/lib/site-packages/binance/client.py?line=356'>357</a>\u001b[0m     \u001b[39mself\u001b[39m\u001b[39m.\u001b[39mresponse \u001b[39m=\u001b[39m \u001b[39mgetattr\u001b[39m(\u001b[39mself\u001b[39m\u001b[39m.\u001b[39msession, method)(uri, \u001b[39m*\u001b[39m\u001b[39m*\u001b[39mkwargs)\n\u001b[0;32m    <a href='file:///c%3A/Users/slavi/anaconda3/envs/Bruno_proj/lib/site-packages/binance/client.py?line=357'>358</a>\u001b[0m     \u001b[39mreturn\u001b[39;00m \u001b[39mself\u001b[39m\u001b[39m.\u001b[39m_handle_response(\u001b[39mself\u001b[39m\u001b[39m.\u001b[39mresponse)\n",
      "File \u001b[1;32m~\\anaconda3\\envs\\Bruno_proj\\lib\\site-packages\\requests\\sessions.py:600\u001b[0m, in \u001b[0;36mSession.get\u001b[1;34m(self, url, **kwargs)\u001b[0m\n\u001b[0;32m    <a href='file:///c%3A/Users/slavi/anaconda3/envs/Bruno_proj/lib/site-packages/requests/sessions.py?line=591'>592</a>\u001b[0m \u001b[39m\u001b[39m\u001b[39mr\u001b[39m\u001b[39m\"\"\"Sends a GET request. Returns :class:`Response` object.\u001b[39;00m\n\u001b[0;32m    <a href='file:///c%3A/Users/slavi/anaconda3/envs/Bruno_proj/lib/site-packages/requests/sessions.py?line=592'>593</a>\u001b[0m \n\u001b[0;32m    <a href='file:///c%3A/Users/slavi/anaconda3/envs/Bruno_proj/lib/site-packages/requests/sessions.py?line=593'>594</a>\u001b[0m \u001b[39m:param url: URL for the new :class:`Request` object.\u001b[39;00m\n\u001b[0;32m    <a href='file:///c%3A/Users/slavi/anaconda3/envs/Bruno_proj/lib/site-packages/requests/sessions.py?line=594'>595</a>\u001b[0m \u001b[39m:param \\*\\*kwargs: Optional arguments that ``request`` takes.\u001b[39;00m\n\u001b[0;32m    <a href='file:///c%3A/Users/slavi/anaconda3/envs/Bruno_proj/lib/site-packages/requests/sessions.py?line=595'>596</a>\u001b[0m \u001b[39m:rtype: requests.Response\u001b[39;00m\n\u001b[0;32m    <a href='file:///c%3A/Users/slavi/anaconda3/envs/Bruno_proj/lib/site-packages/requests/sessions.py?line=596'>597</a>\u001b[0m \u001b[39m\"\"\"\u001b[39;00m\n\u001b[0;32m    <a href='file:///c%3A/Users/slavi/anaconda3/envs/Bruno_proj/lib/site-packages/requests/sessions.py?line=598'>599</a>\u001b[0m kwargs\u001b[39m.\u001b[39msetdefault(\u001b[39m\"\u001b[39m\u001b[39mallow_redirects\u001b[39m\u001b[39m\"\u001b[39m, \u001b[39mTrue\u001b[39;00m)\n\u001b[1;32m--> <a href='file:///c%3A/Users/slavi/anaconda3/envs/Bruno_proj/lib/site-packages/requests/sessions.py?line=599'>600</a>\u001b[0m \u001b[39mreturn\u001b[39;00m \u001b[39mself\u001b[39m\u001b[39m.\u001b[39mrequest(\u001b[39m\"\u001b[39m\u001b[39mGET\u001b[39m\u001b[39m\"\u001b[39m, url, \u001b[39m*\u001b[39m\u001b[39m*\u001b[39mkwargs)\n",
      "File \u001b[1;32m~\\anaconda3\\envs\\Bruno_proj\\lib\\site-packages\\requests\\sessions.py:587\u001b[0m, in \u001b[0;36mSession.request\u001b[1;34m(self, method, url, params, data, headers, cookies, files, auth, timeout, allow_redirects, proxies, hooks, stream, verify, cert, json)\u001b[0m\n\u001b[0;32m    <a href='file:///c%3A/Users/slavi/anaconda3/envs/Bruno_proj/lib/site-packages/requests/sessions.py?line=581'>582</a>\u001b[0m send_kwargs \u001b[39m=\u001b[39m {\n\u001b[0;32m    <a href='file:///c%3A/Users/slavi/anaconda3/envs/Bruno_proj/lib/site-packages/requests/sessions.py?line=582'>583</a>\u001b[0m     \u001b[39m\"\u001b[39m\u001b[39mtimeout\u001b[39m\u001b[39m\"\u001b[39m: timeout,\n\u001b[0;32m    <a href='file:///c%3A/Users/slavi/anaconda3/envs/Bruno_proj/lib/site-packages/requests/sessions.py?line=583'>584</a>\u001b[0m     \u001b[39m\"\u001b[39m\u001b[39mallow_redirects\u001b[39m\u001b[39m\"\u001b[39m: allow_redirects,\n\u001b[0;32m    <a href='file:///c%3A/Users/slavi/anaconda3/envs/Bruno_proj/lib/site-packages/requests/sessions.py?line=584'>585</a>\u001b[0m }\n\u001b[0;32m    <a href='file:///c%3A/Users/slavi/anaconda3/envs/Bruno_proj/lib/site-packages/requests/sessions.py?line=585'>586</a>\u001b[0m send_kwargs\u001b[39m.\u001b[39mupdate(settings)\n\u001b[1;32m--> <a href='file:///c%3A/Users/slavi/anaconda3/envs/Bruno_proj/lib/site-packages/requests/sessions.py?line=586'>587</a>\u001b[0m resp \u001b[39m=\u001b[39m \u001b[39mself\u001b[39m\u001b[39m.\u001b[39msend(prep, \u001b[39m*\u001b[39m\u001b[39m*\u001b[39msend_kwargs)\n\u001b[0;32m    <a href='file:///c%3A/Users/slavi/anaconda3/envs/Bruno_proj/lib/site-packages/requests/sessions.py?line=588'>589</a>\u001b[0m \u001b[39mreturn\u001b[39;00m resp\n",
      "File \u001b[1;32m~\\anaconda3\\envs\\Bruno_proj\\lib\\site-packages\\requests\\sessions.py:745\u001b[0m, in \u001b[0;36mSession.send\u001b[1;34m(self, request, **kwargs)\u001b[0m\n\u001b[0;32m    <a href='file:///c%3A/Users/slavi/anaconda3/envs/Bruno_proj/lib/site-packages/requests/sessions.py?line=741'>742</a>\u001b[0m         \u001b[39mpass\u001b[39;00m\n\u001b[0;32m    <a href='file:///c%3A/Users/slavi/anaconda3/envs/Bruno_proj/lib/site-packages/requests/sessions.py?line=743'>744</a>\u001b[0m \u001b[39mif\u001b[39;00m \u001b[39mnot\u001b[39;00m stream:\n\u001b[1;32m--> <a href='file:///c%3A/Users/slavi/anaconda3/envs/Bruno_proj/lib/site-packages/requests/sessions.py?line=744'>745</a>\u001b[0m     r\u001b[39m.\u001b[39;49mcontent\n\u001b[0;32m    <a href='file:///c%3A/Users/slavi/anaconda3/envs/Bruno_proj/lib/site-packages/requests/sessions.py?line=746'>747</a>\u001b[0m \u001b[39mreturn\u001b[39;00m r\n",
      "File \u001b[1;32m~\\anaconda3\\envs\\Bruno_proj\\lib\\site-packages\\requests\\models.py:899\u001b[0m, in \u001b[0;36mResponse.content\u001b[1;34m(self)\u001b[0m\n\u001b[0;32m    <a href='file:///c%3A/Users/slavi/anaconda3/envs/Bruno_proj/lib/site-packages/requests/models.py?line=896'>897</a>\u001b[0m         \u001b[39mself\u001b[39m\u001b[39m.\u001b[39m_content \u001b[39m=\u001b[39m \u001b[39mNone\u001b[39;00m\n\u001b[0;32m    <a href='file:///c%3A/Users/slavi/anaconda3/envs/Bruno_proj/lib/site-packages/requests/models.py?line=897'>898</a>\u001b[0m     \u001b[39melse\u001b[39;00m:\n\u001b[1;32m--> <a href='file:///c%3A/Users/slavi/anaconda3/envs/Bruno_proj/lib/site-packages/requests/models.py?line=898'>899</a>\u001b[0m         \u001b[39mself\u001b[39m\u001b[39m.\u001b[39m_content \u001b[39m=\u001b[39m \u001b[39mb\u001b[39;49m\u001b[39m\"\u001b[39;49m\u001b[39m\"\u001b[39;49m\u001b[39m.\u001b[39;49mjoin(\u001b[39mself\u001b[39;49m\u001b[39m.\u001b[39;49miter_content(CONTENT_CHUNK_SIZE)) \u001b[39mor\u001b[39;00m \u001b[39mb\u001b[39m\u001b[39m\"\u001b[39m\u001b[39m\"\u001b[39m\n\u001b[0;32m    <a href='file:///c%3A/Users/slavi/anaconda3/envs/Bruno_proj/lib/site-packages/requests/models.py?line=900'>901</a>\u001b[0m \u001b[39mself\u001b[39m\u001b[39m.\u001b[39m_content_consumed \u001b[39m=\u001b[39m \u001b[39mTrue\u001b[39;00m\n\u001b[0;32m    <a href='file:///c%3A/Users/slavi/anaconda3/envs/Bruno_proj/lib/site-packages/requests/models.py?line=901'>902</a>\u001b[0m \u001b[39m# don't need to release the connection; that's been handled by urllib3\u001b[39;00m\n\u001b[0;32m    <a href='file:///c%3A/Users/slavi/anaconda3/envs/Bruno_proj/lib/site-packages/requests/models.py?line=902'>903</a>\u001b[0m \u001b[39m# since we exhausted the data.\u001b[39;00m\n",
      "File \u001b[1;32m~\\anaconda3\\envs\\Bruno_proj\\lib\\site-packages\\requests\\models.py:822\u001b[0m, in \u001b[0;36mResponse.iter_content.<locals>.generate\u001b[1;34m()\u001b[0m\n\u001b[0;32m    <a href='file:///c%3A/Users/slavi/anaconda3/envs/Bruno_proj/lib/site-packages/requests/models.py?line=819'>820</a>\u001b[0m     \u001b[39mraise\u001b[39;00m ContentDecodingError(e)\n\u001b[0;32m    <a href='file:///c%3A/Users/slavi/anaconda3/envs/Bruno_proj/lib/site-packages/requests/models.py?line=820'>821</a>\u001b[0m \u001b[39mexcept\u001b[39;00m ReadTimeoutError \u001b[39mas\u001b[39;00m e:\n\u001b[1;32m--> <a href='file:///c%3A/Users/slavi/anaconda3/envs/Bruno_proj/lib/site-packages/requests/models.py?line=821'>822</a>\u001b[0m     \u001b[39mraise\u001b[39;00m \u001b[39mConnectionError\u001b[39;00m(e)\n\u001b[0;32m    <a href='file:///c%3A/Users/slavi/anaconda3/envs/Bruno_proj/lib/site-packages/requests/models.py?line=822'>823</a>\u001b[0m \u001b[39mexcept\u001b[39;00m SSLError \u001b[39mas\u001b[39;00m e:\n\u001b[0;32m    <a href='file:///c%3A/Users/slavi/anaconda3/envs/Bruno_proj/lib/site-packages/requests/models.py?line=823'>824</a>\u001b[0m     \u001b[39mraise\u001b[39;00m RequestsSSLError(e)\n",
      "\u001b[1;31mConnectionError\u001b[0m: HTTPSConnectionPool(host='api.binance.com', port=443): Read timed out."
     ]
    }
   ],
   "source": [
    "indics = Indicators()\n",
    "test = ForwardTest(BolTrend, params)\n",
    "test.backtest(init_cash=1000)"
   ]
  },
  {
   "cell_type": "code",
   "execution_count": null,
   "metadata": {},
   "outputs": [],
   "source": [
    "pf = test.aggregate_results ()\n",
    "pf.stats()"
   ]
  }
 ],
 "metadata": {
  "interpreter": {
   "hash": "813a745c4138e37b27cfc9a1eec17f44513ac7a1c0bedc89244f618efa566625"
  },
  "kernelspec": {
   "display_name": "Python 3.9.16 ('Bruno_proj')",
   "language": "python",
   "name": "python3"
  },
  "language_info": {
   "codemirror_mode": {
    "name": "ipython",
    "version": 3
   },
   "file_extension": ".py",
   "mimetype": "text/x-python",
   "name": "python",
   "nbconvert_exporter": "python",
   "pygments_lexer": "ipython3",
   "version": "3.9.16"
  },
  "orig_nbformat": 4
 },
 "nbformat": 4,
 "nbformat_minor": 2
}
