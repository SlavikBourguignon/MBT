{
 "cells": [
  {
   "cell_type": "code",
   "execution_count": 1,
   "metadata": {},
   "outputs": [
    {
     "name": "stderr",
     "output_type": "stream",
     "text": [
      "c:\\Users\\slavi\\anaconda3\\envs\\Bruno_proj\\lib\\site-packages\\numba\\core\\decorators.py:262: NumbaDeprecationWarning: \u001b[1mnumba.generated_jit is deprecated. Please see the documentation at: https://numba.readthedocs.io/en/stable/reference/deprecation.html#deprecation-of-generated-jit for more information and advice on a suitable replacement.\u001b[0m\n",
      "  warnings.warn(msg, NumbaDeprecationWarning)\n"
     ]
    }
   ],
   "source": [
    "import pandas as pd\n",
    "import datetime, pytz\n",
    "import vectorbt as vbt\n",
    "import numpy as np\n",
    "import matplotlib.pyplot as plt\n",
    "import json\n",
    "\n",
    "import talib\n",
    "import pandas_ta\n",
    "import time\n",
    "\n",
    "from importlib import reload\n",
    "\n",
    "\n",
    "import sys \n",
    "sys.path.append('../../modules/')\n",
    "\n",
    "from forwardtest import ForwardTest\n",
    "from vbt_indicator import Indicators\n",
    "\n"
   ]
  },
  {
   "cell_type": "code",
   "execution_count": 2,
   "metadata": {},
   "outputs": [],
   "source": [
    "def triplestrend(High, Low, Close, ema_window = 90, stl1 =20, stm1 = 3, stl2 = 20, stm2 = 4, stl3 = 40, stm3 = 8):\n",
    "    ema = vbt.talib('EMA').run(Close, ema_window).real.to_numpy()\n",
    "    stoch_rsi = vbt.talib('STOCHRSI').run(Close).fastk.to_numpy() \n",
    "    st1 = vbt.pandas_ta('supertrend').run(High, Low, Close, stl1, stm1).supertd.to_numpy()\n",
    "    st2 = vbt.pandas_ta('supertrend').run(High, Low, Close, stl2, stm2).supertd.to_numpy()\n",
    "    st3 = vbt.pandas_ta('supertrend').run(High, Low, Close, stl3, stm3).supertd.to_numpy()\n",
    "    \n",
    "    entries = ((st1 + st2 + st3)>= 1) & (stoch_rsi > 80) & (ema > Close)\n",
    "    exits =  ((st1 + st2 + st3) < 1) & (stoch_rsi < 20) & (ema < Close)\n",
    "\n",
    "    return entries, exits\n",
    "\n",
    "\n",
    "TripleSTrend = vbt.IndicatorFactory(\n",
    "    class_name= 'TripleSTrend',\n",
    "    short_name = '3ST',\n",
    "    input_names = [\"High\", \"Low\", \"Close\"] ,\n",
    "    param_names = [\"ema_window\", \"stl1\", \"stm1\", \"stl2\", \"stm2\", \"stl3\", \"stm3\"],\n",
    "    output_names= [\"entries\", \"exits\"]\n",
    "    ).from_apply_func(triplestrend)\n",
    "    \n"
   ]
  },
  {
   "cell_type": "code",
   "execution_count": 2,
   "metadata": {},
   "outputs": [],
   "source": [
    "params = {\n",
    "    'backtest': {\n",
    "        'start': '2017-10-1',\n",
    "        'end': '2018-1-1',\n",
    "        'length': {\n",
    "            'weeks': 4  #durée pendant laquelle on optimise les paramètres\n",
    "        },\n",
    "        'forward': {\n",
    "            'weeks': 2  #durée pendant laquelle on joue les paramètres optimisés\n",
    "        },\n",
    "        \n",
    "    },\n",
    "    'strat':{\n",
    "        'download_params': {\n",
    "            'symbols': 'BTCUSDT',\n",
    "            'interval': '1h',            \n",
    "        },\n",
    "        'get_params': {\n",
    "            'column': ['High', 'Low', 'Close']\n",
    "        },\n",
    "        'run_params': { \n",
    "            'ema_window': {'start': 85, 'stop': 87, 'step': 1},\n",
    "            'stl1': {'start': 15, 'stop': 17, 'step': 1},\n",
    "            'stm1': {'start': 2, 'stop': 4, 'step': 1},\n",
    "            'stl2': {'start': 15, 'stop': 17, 'step': 1},\n",
    "            'stm2': {'start': 3, 'stop': 5, 'step': 1},\n",
    "            'stl3': {'start': 35, 'stop': 37, 'step': 1},\n",
    "            'stm3': {'start': 7, 'stop': 9, 'step': 1},\n",
    "            'param_product': 'True'\n",
    "        }, \n",
    "    },\n",
    "    'portfolio': {'freq': 'H' ,\n",
    "                  'fees' : 0.1/100,\n",
    "                  'size_type': 'Percent',\n",
    "                  'size': .1} #proportion du portefeuille à investir dans chaque trade\n",
    "}\n",
    "\n"
   ]
  },
  {
   "cell_type": "code",
   "execution_count": 5,
   "metadata": {},
   "outputs": [
    {
     "data": {
      "application/vnd.jupyter.widget-view+json": {
       "model_id": "4385dc1b6c514dcf926232d558ba48fd",
       "version_major": 2,
       "version_minor": 0
      },
      "text/plain": [
       "0it [00:00, ?it/s]"
      ]
     },
     "metadata": {},
     "output_type": "display_data"
    },
    {
     "data": {
      "application/vnd.jupyter.widget-view+json": {
       "model_id": "a9915029a81a4719a123845ef908b6ff",
       "version_major": 2,
       "version_minor": 0
      },
      "text/plain": [
       "0it [00:00, ?it/s]"
      ]
     },
     "metadata": {},
     "output_type": "display_data"
    },
    {
     "name": "stdout",
     "output_type": "stream",
     "text": [
      "Forward test between 2017-10-29 00:00:00+00:00 and 2017-11-12 00:00:00+00:00 finished at 2023-07-17 08:39:55.656116\n",
      "Cash: 987.145918849611\n"
     ]
    },
    {
     "data": {
      "application/vnd.jupyter.widget-view+json": {
       "model_id": "7174607902af4291a6d2466075ad0799",
       "version_major": 2,
       "version_minor": 0
      },
      "text/plain": [
       "0it [00:00, ?it/s]"
      ]
     },
     "metadata": {},
     "output_type": "display_data"
    },
    {
     "data": {
      "application/vnd.jupyter.widget-view+json": {
       "model_id": "499935d95fa345f7add9c2cdebfbe980",
       "version_major": 2,
       "version_minor": 0
      },
      "text/plain": [
       "0it [00:00, ?it/s]"
      ]
     },
     "metadata": {},
     "output_type": "display_data"
    },
    {
     "name": "stdout",
     "output_type": "stream",
     "text": [
      "Forward test between 2017-11-12 00:00:00+00:00 and 2017-11-26 00:00:00+00:00 finished at 2023-07-17 08:40:36.244600\n",
      "Cash: 987.145918849611\n"
     ]
    },
    {
     "data": {
      "application/vnd.jupyter.widget-view+json": {
       "model_id": "2c6734e6143b40f683ecb5549f2c9086",
       "version_major": 2,
       "version_minor": 0
      },
      "text/plain": [
       "0it [00:00, ?it/s]"
      ]
     },
     "metadata": {},
     "output_type": "display_data"
    },
    {
     "data": {
      "application/vnd.jupyter.widget-view+json": {
       "model_id": "c783989170524f8a8dce45b675541c62",
       "version_major": 2,
       "version_minor": 0
      },
      "text/plain": [
       "0it [00:00, ?it/s]"
      ]
     },
     "metadata": {},
     "output_type": "display_data"
    },
    {
     "name": "stdout",
     "output_type": "stream",
     "text": [
      "Forward test between 2017-11-26 00:00:00+00:00 and 2017-12-10 00:00:00+00:00 finished at 2023-07-17 08:41:07.951545\n",
      "Cash: 987.145918849611\n"
     ]
    },
    {
     "data": {
      "application/vnd.jupyter.widget-view+json": {
       "model_id": "b74fd1fc33ec44b884329098ba0ae618",
       "version_major": 2,
       "version_minor": 0
      },
      "text/plain": [
       "0it [00:00, ?it/s]"
      ]
     },
     "metadata": {},
     "output_type": "display_data"
    },
    {
     "data": {
      "application/vnd.jupyter.widget-view+json": {
       "model_id": "7921430e713f48c387c8486480749297",
       "version_major": 2,
       "version_minor": 0
      },
      "text/plain": [
       "0it [00:00, ?it/s]"
      ]
     },
     "metadata": {},
     "output_type": "display_data"
    },
    {
     "name": "stdout",
     "output_type": "stream",
     "text": [
      "Forward test between 2017-12-10 00:00:00+00:00 and 2017-12-24 00:00:00+00:00 finished at 2023-07-17 08:41:44.585863\n",
      "Cash: 978.2665513684088\n"
     ]
    },
    {
     "data": {
      "application/vnd.jupyter.widget-view+json": {
       "model_id": "4b57fd4d9d5d4afcaa206174bc2a714c",
       "version_major": 2,
       "version_minor": 0
      },
      "text/plain": [
       "0it [00:00, ?it/s]"
      ]
     },
     "metadata": {},
     "output_type": "display_data"
    },
    {
     "data": {
      "text/plain": [
       "978.2665513684088"
      ]
     },
     "execution_count": 5,
     "metadata": {},
     "output_type": "execute_result"
    }
   ],
   "source": [
    "indics = Indicators()\n",
    "test = ForwardTest(indics.TripleSTrend, params)\n",
    "test.backtest(init_cash=1000)"
   ]
  },
  {
   "cell_type": "code",
   "execution_count": null,
   "metadata": {},
   "outputs": [
    {
     "data": {
      "text/plain": [
       "Start                         2017-10-29 00:00:00+00:00\n",
       "End                           2017-12-23 23:00:00+00:00\n",
       "Period                                 56 days 00:00:00\n",
       "Start Value                                       100.0\n",
       "End Value                                     99.548976\n",
       "Total Return [%]                              -0.451024\n",
       "Benchmark Return [%]                          133.38779\n",
       "Max Gross Exposure [%]                        10.942965\n",
       "Total Fees Paid                                0.030488\n",
       "Max Drawdown [%]                               2.382989\n",
       "Max Drawdown Duration                  36 days 23:00:00\n",
       "Total Trades                                          2\n",
       "Total Closed Trades                                   1\n",
       "Total Open Trades                                     1\n",
       "Open Trade PnL                                 -0.90357\n",
       "Win Rate [%]                                      100.0\n",
       "Best Trade [%]                                 4.529978\n",
       "Worst Trade [%]                                4.529978\n",
       "Avg Winning Trade [%]                          4.529978\n",
       "Avg Losing Trade [%]                                NaN\n",
       "Avg Winning Trade Duration              7 days 17:00:00\n",
       "Avg Losing Trade Duration                           NaT\n",
       "Profit Factor                                       inf\n",
       "Expectancy                                     0.452545\n",
       "Sharpe Ratio                                  -0.418749\n",
       "Calmar Ratio                                  -1.218377\n",
       "Omega Ratio                                    0.968988\n",
       "Sortino Ratio                                 -0.550035\n",
       "dtype: object"
      ]
     },
     "execution_count": 5,
     "metadata": {},
     "output_type": "execute_result"
    }
   ],
   "source": [
    "pf = test.aggregate_results ()\n",
    "pf.stats()"
   ]
  },
  {
   "cell_type": "code",
   "execution_count": null,
   "metadata": {},
   "outputs": [],
   "source": []
  },
  {
   "cell_type": "code",
   "execution_count": null,
   "metadata": {},
   "outputs": [],
   "source": []
  }
 ],
 "metadata": {
  "kernelspec": {
   "display_name": "Bruno_proj",
   "language": "python",
   "name": "python3"
  },
  "language_info": {
   "codemirror_mode": {
    "name": "ipython",
    "version": 3
   },
   "file_extension": ".py",
   "mimetype": "text/x-python",
   "name": "python",
   "nbconvert_exporter": "python",
   "pygments_lexer": "ipython3",
   "version": "3.9.16"
  },
  "orig_nbformat": 4
 },
 "nbformat": 4,
 "nbformat_minor": 2
}
