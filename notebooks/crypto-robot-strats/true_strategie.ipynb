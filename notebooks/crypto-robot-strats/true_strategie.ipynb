{
 "cells": [
  {
   "cell_type": "code",
   "execution_count": 4,
   "metadata": {},
   "outputs": [],
   "source": [
    "import pandas as pd\n",
    "import datetime, pytz\n",
    "import vectorbt as vbt\n",
    "import numpy as np\n",
    "import matplotlib.pyplot as plt\n",
    "import json\n",
    "\n",
    "import talib\n",
    "import time\n",
    "\n",
    "from importlib import reload\n",
    "\n",
    "\n",
    "import sys \n",
    "sys.path.append('../../modules/')\n",
    "\n",
    "from forwardtest import ForwardTest\n",
    "from vbt_strategies import Strategy as Strat\n",
    "\n"
   ]
  },
  {
   "cell_type": "code",
   "execution_count": 5,
   "metadata": {},
   "outputs": [],
   "source": [
    "params = {\n",
    "    'strategy_name': 'TrueStrat',\n",
    "    'backtest': {\n",
    "        'start': '2017-10-1',\n",
    "        'end': '2017-11-20',\n",
    "        'length': {\n",
    "            'weeks': 4  #durée pendant laquelle on optimise les paramètres\n",
    "        },\n",
    "        'forward': {\n",
    "            'weeks': 2  #durée pendant laquelle on joue les paramètres optimisés\n",
    "        },\n",
    "        \n",
    "    },\n",
    "    'strat':{\n",
    "        'download_params': {\n",
    "            'symbols': 'BTCUSDT',\n",
    "            'interval': '1h',            \n",
    "        },\n",
    "        'get_params': {\n",
    "            'column': 'Close'\n",
    "        },\n",
    "        'run_params': { \n",
    "            'fast_ema': {'start': 10, 'stop': 20, 'step': 1},\n",
    "            'slow_ema': {'start': 20, 'stop': 30, 'step': 1},\n",
    "            'param_product': 'True'\n",
    "        }, \n",
    "    },\n",
    "    'portfolio': {'freq': 'H' ,\n",
    "                  'fees' : 0.1/100,\n",
    "                  'size_type': 'Percent',\n",
    "                  'size': .1} #proportion du portefeuille à investir dans chaque trade\n",
    "}\n",
    "\n"
   ]
  },
  {
   "cell_type": "code",
   "execution_count": 6,
   "metadata": {},
   "outputs": [
    {
     "data": {
      "application/vnd.jupyter.widget-view+json": {
       "model_id": "7973d2eef7724e2e855728f6eb871278",
       "version_major": 2,
       "version_minor": 0
      },
      "text/plain": [
       "0it [00:00, ?it/s]"
      ]
     },
     "metadata": {},
     "output_type": "display_data"
    },
    {
     "data": {
      "application/vnd.jupyter.widget-view+json": {
       "model_id": "d9e07f5a9aab4701bf174a0072bea523",
       "version_major": 2,
       "version_minor": 0
      },
      "text/plain": [
       "0it [00:00, ?it/s]"
      ]
     },
     "metadata": {},
     "output_type": "display_data"
    },
    {
     "name": "stdout",
     "output_type": "stream",
     "text": [
      "Forward test between 2017-10-29 00:00:00+00:00 and 2017-11-12 00:00:00+00:00 finished at 2023-07-21 11:14:36.046153\n",
      "Cash: 1014.8970083638819\n"
     ]
    },
    {
     "data": {
      "application/vnd.jupyter.widget-view+json": {
       "model_id": "53ad9ad32dfd423e986d3175dcedf8d7",
       "version_major": 2,
       "version_minor": 0
      },
      "text/plain": [
       "0it [00:00, ?it/s]"
      ]
     },
     "metadata": {},
     "output_type": "display_data"
    },
    {
     "name": "stdout",
     "output_type": "stream",
     "text": [
      "Start                         2017-10-29 00:00:00+00:00\n",
      "End                           2017-11-11 23:00:00+00:00\n",
      "Period                                 14 days 00:00:00\n",
      "Start Value                                       100.0\n",
      "End Value                                    101.489701\n",
      "Total Return [%]                               1.489701\n",
      "Benchmark Return [%]                           9.587851\n",
      "Max Gross Exposure [%]                        12.080643\n",
      "Total Fees Paid                                0.062211\n",
      "Max Drawdown [%]                               0.920507\n",
      "Max Drawdown Duration                   6 days 10:00:00\n",
      "Total Trades                                          3\n",
      "Total Closed Trades                                   3\n",
      "Total Open Trades                                     0\n",
      "Open Trade PnL                                      0.0\n",
      "Win Rate [%]                                  33.333333\n",
      "Best Trade [%]                                18.890612\n",
      "Worst Trade [%]                                -2.20459\n",
      "Avg Winning Trade [%]                         18.890612\n",
      "Avg Losing Trade [%]                          -1.954383\n",
      "Avg Winning Trade Duration              7 days 03:00:00\n",
      "Avg Losing Trade Duration               0 days 12:00:00\n",
      "Profit Factor                                  4.747928\n",
      "Expectancy                                     0.496567\n",
      "Sharpe Ratio                                     5.6051\n",
      "Calmar Ratio                                  51.100261\n",
      "Omega Ratio                                    1.260112\n",
      "Sortino Ratio                                  7.472689\n",
      "dtype: object\n"
     ]
    }
   ],
   "source": [
    "strat = Strat()\n",
    "test = ForwardTest(params)\n",
    "test.run()\n",
    "#test.backtest(init_cash= 1000)"
   ]
  }
 ],
 "metadata": {
  "kernelspec": {
   "display_name": "Bruno_proj",
   "language": "python",
   "name": "python3"
  },
  "language_info": {
   "codemirror_mode": {
    "name": "ipython",
    "version": 3
   },
   "file_extension": ".py",
   "mimetype": "text/x-python",
   "name": "python",
   "nbconvert_exporter": "python",
   "pygments_lexer": "ipython3",
   "version": "3.9.16"
  },
  "orig_nbformat": 4
 },
 "nbformat": 4,
 "nbformat_minor": 2
}
