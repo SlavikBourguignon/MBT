{
 "cells": [
  {
   "cell_type": "code",
   "execution_count": null,
   "metadata": {},
   "outputs": [
    {
     "name": "stderr",
     "output_type": "stream",
     "text": [
      "c:\\Users\\slavi\\anaconda3\\envs\\Bruno_proj\\lib\\site-packages\\numba\\core\\decorators.py:262: NumbaDeprecationWarning: \u001b[1mnumba.generated_jit is deprecated. Please see the documentation at: https://numba.readthedocs.io/en/stable/reference/deprecation.html#deprecation-of-generated-jit for more information and advice on a suitable replacement.\u001b[0m\n",
      "  warnings.warn(msg, NumbaDeprecationWarning)\n"
     ]
    }
   ],
   "source": [
    "import pandas as pd\n",
    "import datetime, pytz\n",
    "import vectorbt as vbt\n",
    "import numpy as np\n",
    "import matplotlib.pyplot as plt\n",
    "import json\n",
    "\n",
    "import talib\n",
    "import pandas_ta\n",
    "import time\n",
    "\n",
    "from importlib import reload\n",
    "\n",
    "\n",
    "import sys \n",
    "sys.path.append('../../modules/')\n",
    "\n",
    "from forwardtest import ForwardTest\n",
    "from vbt_indicator import Indicators"
   ]
  },
  {
   "cell_type": "code",
   "execution_count": null,
   "metadata": {},
   "outputs": [],
   "source": [
    "params = {\n",
    "    'backtest': {\n",
    "        'start': '2017-10-1',\n",
    "        'end': '2017-12-1',\n",
    "        'length': {\n",
    "            'weeks': 4  #durée pendant laquelle on optimise les paramètres\n",
    "        },\n",
    "        'forward': {\n",
    "            'weeks': 2  #durée pendant laquelle on joue les paramètres optimisés\n",
    "        },\n",
    "        \n",
    "    },\n",
    "    'strat':{\n",
    "        'download_params': {\n",
    "            'symbols': 'BTCUSDT',\n",
    "            'interval': '1h',            \n",
    "        },\n",
    "        'get_params': {\n",
    "            'column': ['Close']\n",
    "        },\n",
    "        'run_params': { \n",
    "            'ema_window': {'start': 5, 'stop': 20, 'step': 1},\n",
    "            'signal': {'start': 10, 'stop': 30, 'step': 1},\n",
    "            'param_product': 'True'\n",
    "        }, \n",
    "    },\n",
    "    'portfolio': {'freq': 'H' ,\n",
    "                  'fees' : 0.1/100,\n",
    "                  'size_type': 'Percent',\n",
    "                  'size': .1} #proportion du portefeuille à investir dans chaque trade\n",
    "}\n",
    "\n"
   ]
  },
  {
   "cell_type": "code",
   "execution_count": null,
   "metadata": {},
   "outputs": [
    {
     "data": {
      "application/vnd.jupyter.widget-view+json": {
       "model_id": "0da2940622c74fbf91407e877ba24879",
       "version_major": 2,
       "version_minor": 0
      },
      "text/plain": [
       "0it [00:00, ?it/s]"
      ]
     },
     "metadata": {},
     "output_type": "display_data"
    },
    {
     "data": {
      "application/vnd.jupyter.widget-view+json": {
       "model_id": "008bcd01533049e1a6c0a474287f4260",
       "version_major": 2,
       "version_minor": 0
      },
      "text/plain": [
       "0it [00:00, ?it/s]"
      ]
     },
     "metadata": {},
     "output_type": "display_data"
    },
    {
     "name": "stdout",
     "output_type": "stream",
     "text": [
      "Forward test between 2017-10-29 00:00:00+00:00 and 2017-11-12 00:00:00+00:00 finished at 2023-07-19 18:53:16.522787\n",
      "Cash: 997.5347663424686\n"
     ]
    },
    {
     "data": {
      "application/vnd.jupyter.widget-view+json": {
       "model_id": "b42687c874c244ff9286632d30d24b9c",
       "version_major": 2,
       "version_minor": 0
      },
      "text/plain": [
       "0it [00:00, ?it/s]"
      ]
     },
     "metadata": {},
     "output_type": "display_data"
    },
    {
     "data": {
      "application/vnd.jupyter.widget-view+json": {
       "model_id": "4b3a14b353c6440d894392951fce62e0",
       "version_major": 2,
       "version_minor": 0
      },
      "text/plain": [
       "0it [00:00, ?it/s]"
      ]
     },
     "metadata": {},
     "output_type": "display_data"
    },
    {
     "name": "stdout",
     "output_type": "stream",
     "text": [
      "Forward test between 2017-11-12 00:00:00+00:00 and 2017-11-26 00:00:00+00:00 finished at 2023-07-19 18:53:36.443321\n",
      "Cash: 1016.9350208763669\n"
     ]
    },
    {
     "data": {
      "application/vnd.jupyter.widget-view+json": {
       "model_id": "9cc632a7be9f4f148320d3f9c3e4d49e",
       "version_major": 2,
       "version_minor": 0
      },
      "text/plain": [
       "0it [00:00, ?it/s]"
      ]
     },
     "metadata": {},
     "output_type": "display_data"
    },
    {
     "data": {
      "text/plain": [
       "1016.9350208763669"
      ]
     },
     "execution_count": 3,
     "metadata": {},
     "output_type": "execute_result"
    }
   ],
   "source": [
    "indics = Indicators()\n",
    "test = ForwardTest(indics.Trix, params)\n",
    "test.backtest(init_cash = 1000)"
   ]
  },
  {
   "cell_type": "code",
   "execution_count": null,
   "metadata": {},
   "outputs": [
    {
     "name": "stdout",
     "output_type": "stream",
     "text": [
      "c:\\Users\\slavi\\Documents\\Dev\\vbt_projects\\notebooks\\crypto-robot-strats\\../../modules\\decorators.py\n"
     ]
    },
    {
     "data": {
      "text/plain": [
       "Start                         2017-10-29 00:00:00+00:00\n",
       "End                           2017-11-25 23:00:00+00:00\n",
       "Period                                 28 days 00:00:00\n",
       "Start Value                                       100.0\n",
       "End Value                                    101.693502\n",
       "Total Return [%]                               1.693502\n",
       "Benchmark Return [%]                          52.667377\n",
       "Max Gross Exposure [%]                          11.0936\n",
       "Total Fees Paid                                0.192176\n",
       "Max Drawdown [%]                               1.924023\n",
       "Max Drawdown Duration                  17 days 03:00:00\n",
       "Total Trades                                         10\n",
       "Total Closed Trades                                   9\n",
       "Total Open Trades                                     1\n",
       "Open Trade PnL                                 0.672076\n",
       "Win Rate [%]                                  55.555556\n",
       "Best Trade [%]                                 9.913961\n",
       "Worst Trade [%]                               -5.612147\n",
       "Avg Winning Trade [%]                          4.766535\n",
       "Avg Losing Trade [%]                          -3.382157\n",
       "Avg Winning Trade Duration              1 days 07:12:00\n",
       "Avg Losing Trade Duration               0 days 16:30:00\n",
       "Profit Factor                                  1.750817\n",
       "Expectancy                                     0.113492\n",
       "Sharpe Ratio                                    3.74592\n",
       "Calmar Ratio                                  12.719248\n",
       "Omega Ratio                                    1.208359\n",
       "Sortino Ratio                                  4.874442\n",
       "dtype: object"
      ]
     },
     "execution_count": 4,
     "metadata": {},
     "output_type": "execute_result"
    }
   ],
   "source": [
    "pf = test.aggregate_results()\n",
    "pf.stats()"
   ]
  }
 ],
 "metadata": {
  "kernelspec": {
   "display_name": "Bruno_proj",
   "language": "python",
   "name": "python3"
  },
  "language_info": {
   "codemirror_mode": {
    "name": "ipython",
    "version": 3
   },
   "file_extension": ".py",
   "mimetype": "text/x-python",
   "name": "python",
   "nbconvert_exporter": "python",
   "pygments_lexer": "ipython3",
   "version": "3.9.16"
  },
  "orig_nbformat": 4
 },
 "nbformat": 4,
 "nbformat_minor": 2
}
