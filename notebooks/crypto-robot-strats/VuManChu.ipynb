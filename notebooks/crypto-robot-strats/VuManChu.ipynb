{
 "cells": [
  {
   "cell_type": "code",
   "execution_count": 1,
   "metadata": {},
   "outputs": [
    {
     "name": "stderr",
     "output_type": "stream",
     "text": [
      "C:\\Users\\slavi\\anaconda3\\envs\\Bruno_proj\\lib\\site-packages\\numba\\core\\decorators.py:262: NumbaDeprecationWarning: \u001b[1mnumba.generated_jit is deprecated. Please see the documentation at: https://numba.readthedocs.io/en/stable/reference/deprecation.html#deprecation-of-generated-jit for more information and advice on a suitable replacement.\u001b[0m\n",
      "  warnings.warn(msg, NumbaDeprecationWarning)\n"
     ]
    }
   ],
   "source": [
    "import pandas as pd\n",
    "import datetime, pytz, time\n",
    "import vectorbt as vbt\n",
    "import numpy as np\n",
    "import matplotlib.pyplot as plt\n",
    "\n",
    "import sys \n",
    "sys.path.append('../../modules/')\n",
    "\n",
    "from forwardtest import ForwardTest\n",
    "from vbt_indicator import Indicators"
   ]
  },
  {
   "cell_type": "code",
   "execution_count": 2,
   "metadata": {},
   "outputs": [],
   "source": [
    "def vumanchustrat(Open,High, Low, Close, period, mfimult, fastema, slowema):\n",
    "    hcl3 = (High + Low + Close)/3\n",
    "    esa = vbt.talib('EMA').run(hcl3, period).real.to_numpy()\n",
    "    de = vbt.talib('EMA').run(np.abs(hcl3 - esa), period).real.to_numpy()\n",
    "    ci = (hcl3 - esa) / (0.015*de)\n",
    "    wave1 = vbt.talib('EMA').run(ci, period)\n",
    "    wave2 = vbt.talib('SMA').run(wave1.real.to_numpy(), period).real.to_numpy()\n",
    "\n",
    "    cross = wave1.close_crossed_above(wave2).to_numpy()\n",
    "\n",
    "    wave1 = wave1.real.to_numpy()\n",
    "\n",
    "    mfi  = (Open - Close) / (High - Low) * mfimult\n",
    "\n",
    "    ema1 = vbt.talib('EMA').run(Close, fastema).real.to_numpy()\n",
    "    ema2 = vbt.talib('EMA').run(Close, slowema).real.to_numpy()\n",
    "\n",
    "    lowl = pd.Series(Low.flatten()).rolling(fastema).min().shift(1).to_numpy()\n",
    "    highh = pd.Series(High.flatten()).rolling(fastema).max(fastema).shift(1).to_numpy()\n",
    "    entries = (ema1 >= ema2) & (Close > ema1) & (mfi > 0) & (wave1 < 0 ) & (wave2 < wave1) & cross \n",
    "    exits = (Close.flatten() < lowl) | (Close.flatten() > highh)\n",
    "\n",
    "    return entries, exits\n",
    "\n",
    "\n",
    "VMCstrat = vbt.IndicatorFactory(\n",
    "    class_name= 'VuManChu',\n",
    "    short_name = 'VMC',\n",
    "    input_names = [\"Open\", \"High\", \"Low\", \"Close\"] ,\n",
    "    param_names = [\"period\", \"mfimult\", \"fastema\", \"slowema\"],\n",
    "    output_names= [\"entries\", \"exits\"]\n",
    "    ).from_apply_func(vumanchustrat)\n",
    "\n",
    "\n",
    "\n"
   ]
  },
  {
   "cell_type": "code",
   "execution_count": 3,
   "metadata": {},
   "outputs": [],
   "source": [
    "params = {\n",
    "    'backtest': {\n",
    "        'start': '2017-10-1',\n",
    "        'end': '2018-1-1',\n",
    "        'length': {\n",
    "            'weeks': 4  #durée pendant laquelle on optimise les paramètres\n",
    "        },\n",
    "        'forward': {\n",
    "            'weeks': 2  #durée pendant laquelle on joue les paramètres optimisés\n",
    "        },\n",
    "        \n",
    "    },\n",
    "    'strat':{\n",
    "        'download_params': {\n",
    "            'symbols': 'BTCUSDT',\n",
    "            'interval': '1h',\n",
    "            'missing_index': 'drop'            \n",
    "        },\n",
    "        'get_params': {\n",
    "            'column': ['Open', 'High', 'Low', 'Close']\n",
    "        },\n",
    "        'run_params': { \n",
    "            'period': {'start': 10, 'stop': 20, 'step': 1},\n",
    "            'mfimult': {'start': 1, 'stop': 5, 'step': 0.2},\n",
    "            'fastema': {'start': 30, 'stop': 70, 'step': 10},\n",
    "            'slowema': {'start': 100, 'stop': 400, 'step': 50},\n",
    "            'param_product': 'True'\n",
    "        }, \n",
    "    },\n",
    "    'portfolio': {'freq': 'H' ,\n",
    "                  'fees' : 0.1/100,\n",
    "                  'size_type': 'Percent',\n",
    "                  'size': .1} #proportion du portefeuille à investir dans chaque trade\n",
    "}\n",
    "\n"
   ]
  },
  {
   "cell_type": "code",
   "execution_count": 4,
   "metadata": {},
   "outputs": [
    {
     "data": {
      "application/vnd.jupyter.widget-view+json": {
       "model_id": "3cdf22892396465d8bcdeca0a4fbc509",
       "version_major": 2,
       "version_minor": 0
      },
      "text/plain": [
       "0it [00:00, ?it/s]"
      ]
     },
     "metadata": {},
     "output_type": "display_data"
    },
    {
     "data": {
      "application/vnd.jupyter.widget-view+json": {
       "model_id": "3c91575fd61b4f1783f4f0ec51d7673d",
       "version_major": 2,
       "version_minor": 0
      },
      "text/plain": [
       "0it [00:00, ?it/s]"
      ]
     },
     "metadata": {},
     "output_type": "display_data"
    },
    {
     "name": "stdout",
     "output_type": "stream",
     "text": [
      "Forward test between 2017-10-29 00:00:00+00:00 and 2017-11-12 00:00:00+00:00 finished at 2023-07-18 20:30:32.060534\n",
      "Cash: 1000.0\n"
     ]
    },
    {
     "data": {
      "application/vnd.jupyter.widget-view+json": {
       "model_id": "58f37b04852849179034d5d0625fe625",
       "version_major": 2,
       "version_minor": 0
      },
      "text/plain": [
       "0it [00:00, ?it/s]"
      ]
     },
     "metadata": {},
     "output_type": "display_data"
    },
    {
     "data": {
      "application/vnd.jupyter.widget-view+json": {
       "model_id": "94bc2431ac00411e8d67f5ab2ab48b14",
       "version_major": 2,
       "version_minor": 0
      },
      "text/plain": [
       "0it [00:00, ?it/s]"
      ]
     },
     "metadata": {},
     "output_type": "display_data"
    },
    {
     "name": "stdout",
     "output_type": "stream",
     "text": [
      "Forward test between 2017-11-12 00:00:00+00:00 and 2017-11-26 00:00:00+00:00 finished at 2023-07-18 20:32:46.842882\n",
      "Cash: 1000.0\n"
     ]
    },
    {
     "data": {
      "application/vnd.jupyter.widget-view+json": {
       "model_id": "91e62cead9bd4408ad8dbff6a8a609ee",
       "version_major": 2,
       "version_minor": 0
      },
      "text/plain": [
       "0it [00:00, ?it/s]"
      ]
     },
     "metadata": {},
     "output_type": "display_data"
    },
    {
     "data": {
      "application/vnd.jupyter.widget-view+json": {
       "model_id": "ef60b3f0dc6a4b24be312d5c3ed8d8f6",
       "version_major": 2,
       "version_minor": 0
      },
      "text/plain": [
       "0it [00:00, ?it/s]"
      ]
     },
     "metadata": {},
     "output_type": "display_data"
    },
    {
     "name": "stdout",
     "output_type": "stream",
     "text": [
      "Forward test between 2017-11-26 00:00:00+00:00 and 2017-12-10 00:00:00+00:00 finished at 2023-07-18 20:34:52.705845\n",
      "Cash: 1000.0\n"
     ]
    },
    {
     "data": {
      "application/vnd.jupyter.widget-view+json": {
       "model_id": "f9c25e799d25459d8e5d9d55a99a7e6c",
       "version_major": 2,
       "version_minor": 0
      },
      "text/plain": [
       "0it [00:00, ?it/s]"
      ]
     },
     "metadata": {},
     "output_type": "display_data"
    },
    {
     "data": {
      "application/vnd.jupyter.widget-view+json": {
       "model_id": "89eae00d97064026917e0b0bbaafa6c3",
       "version_major": 2,
       "version_minor": 0
      },
      "text/plain": [
       "0it [00:00, ?it/s]"
      ]
     },
     "metadata": {},
     "output_type": "display_data"
    },
    {
     "name": "stdout",
     "output_type": "stream",
     "text": [
      "Forward test between 2017-12-10 00:00:00+00:00 and 2017-12-24 00:00:00+00:00 finished at 2023-07-18 20:36:27.395256\n",
      "Cash: 1000.0\n"
     ]
    },
    {
     "data": {
      "application/vnd.jupyter.widget-view+json": {
       "model_id": "ce576d52b79f4729b88104a44eedf1ba",
       "version_major": 2,
       "version_minor": 0
      },
      "text/plain": [
       "0it [00:00, ?it/s]"
      ]
     },
     "metadata": {},
     "output_type": "display_data"
    },
    {
     "data": {
      "text/plain": [
       "1000.0"
      ]
     },
     "execution_count": 4,
     "metadata": {},
     "output_type": "execute_result"
    }
   ],
   "source": [
    "indics = Indicators()\n",
    "test = ForwardTest(indics.VMCstrat, params)\n",
    "test.backtest(init_cash=1000)"
   ]
  },
  {
   "cell_type": "code",
   "execution_count": 5,
   "metadata": {},
   "outputs": [
    {
     "data": {
      "text/plain": [
       "Start                         2017-10-29 00:00:00+00:00\n",
       "End                           2017-12-23 23:00:00+00:00\n",
       "Period                                 56 days 00:00:00\n",
       "Start Value                                       100.0\n",
       "End Value                                         100.0\n",
       "Total Return [%]                                    0.0\n",
       "Benchmark Return [%]                          133.38779\n",
       "Max Gross Exposure [%]                              0.0\n",
       "Total Fees Paid                                     0.0\n",
       "Max Drawdown [%]                                    NaN\n",
       "Max Drawdown Duration                               NaT\n",
       "Total Trades                                          0\n",
       "Total Closed Trades                                   0\n",
       "Total Open Trades                                     0\n",
       "Open Trade PnL                                      0.0\n",
       "Win Rate [%]                                        NaN\n",
       "Best Trade [%]                                      NaN\n",
       "Worst Trade [%]                                     NaN\n",
       "Avg Winning Trade [%]                               NaN\n",
       "Avg Losing Trade [%]                                NaN\n",
       "Avg Winning Trade Duration                          NaT\n",
       "Avg Losing Trade Duration                           NaT\n",
       "Profit Factor                                       NaN\n",
       "Expectancy                                          NaN\n",
       "Sharpe Ratio                                        inf\n",
       "Calmar Ratio                                        NaN\n",
       "Omega Ratio                                         inf\n",
       "Sortino Ratio                                       inf\n",
       "dtype: object"
      ]
     },
     "execution_count": 5,
     "metadata": {},
     "output_type": "execute_result"
    }
   ],
   "source": [
    "pf = test.aggregate_results()\n",
    "pf.stats()"
   ]
  }
 ],
 "metadata": {
  "interpreter": {
   "hash": "813a745c4138e37b27cfc9a1eec17f44513ac7a1c0bedc89244f618efa566625"
  },
  "kernelspec": {
   "display_name": "Python 3.9.16 ('Bruno_proj')",
   "language": "python",
   "name": "python3"
  },
  "language_info": {
   "codemirror_mode": {
    "name": "ipython",
    "version": 3
   },
   "file_extension": ".py",
   "mimetype": "text/x-python",
   "name": "python",
   "nbconvert_exporter": "python",
   "pygments_lexer": "ipython3",
   "version": "3.9.16"
  },
  "orig_nbformat": 4
 },
 "nbformat": 4,
 "nbformat_minor": 2
}
