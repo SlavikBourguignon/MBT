{
 "cells": [
  {
   "cell_type": "code",
   "execution_count": 1,
   "metadata": {},
   "outputs": [
    {
     "name": "stderr",
     "output_type": "stream",
     "text": [
      "C:\\Users\\slavi\\anaconda3\\envs\\Bruno_proj\\lib\\site-packages\\numba\\core\\decorators.py:262: NumbaDeprecationWarning: \u001b[1mnumba.generated_jit is deprecated. Please see the documentation at: https://numba.readthedocs.io/en/stable/reference/deprecation.html#deprecation-of-generated-jit for more information and advice on a suitable replacement.\u001b[0m\n",
      "  warnings.warn(msg, NumbaDeprecationWarning)\n"
     ]
    }
   ],
   "source": [
    "import pandas as pd\n",
    "import datetime, pytz, time\n",
    "import vectorbt as vbt\n",
    "import numpy as np\n",
    "import matplotlib.pyplot as plt\n",
    "\n",
    "import sys \n",
    "sys.path.append('../../modules/')\n",
    "\n",
    "from forwardtest import ForwardTest\n",
    "from vbt_indicator import Indicators"
   ]
  },
  {
   "cell_type": "code",
   "execution_count": 2,
   "metadata": {},
   "outputs": [],
   "source": [
    "def superreversal(High, Low, Close, fastema, slowema, stl1, stm1):\n",
    "    ema1 = vbt.talib('EMA').run(Close, fastema).real.to_numpy()\n",
    "    ema2 = vbt.talib('EMA').run(Close, slowema).real.to_numpy()\n",
    "    st1 = vbt.pandas_ta('supertrend').run(High, Low, Close, stl1, stm1).supertd.to_numpy()\n",
    "\n",
    "    entries = (ema1 > ema2) & (st1 > 0) & (Low < ema1)\n",
    "    exits = (st1 < 0) & (High > ema1)\n",
    "\n",
    "    return entries,  exits\n",
    "\n",
    "SuperReversal = vbt.IndicatorFactory(\n",
    "    class_name= 'SuperRevesal',\n",
    "    short_name = 'SR',\n",
    "    input_names = [\"High\", \"Low\", \"Close\"] ,\n",
    "    param_names = [\"fastema\", \"slowema\", \"stl1\", \"stm1\"],\n",
    "    output_names= [\"entries\", \"exits\"]\n",
    "    ).from_apply_func(superreversal)\n",
    "\n",
    "\n"
   ]
  },
  {
   "cell_type": "code",
   "execution_count": 3,
   "metadata": {},
   "outputs": [],
   "source": [
    "params = {\n",
    "    'backtest': {\n",
    "        'start': '2017-10-1',\n",
    "        'end': '2018-1-1',\n",
    "        'length': {\n",
    "            'weeks': 4  #durée pendant laquelle on optimise les paramètres\n",
    "        },\n",
    "        'forward': {\n",
    "            'weeks': 2  #durée pendant laquelle on joue les paramètres optimisés\n",
    "        },\n",
    "        \n",
    "    },\n",
    "    'strat':{\n",
    "        'download_params': {\n",
    "            'symbols': 'BTCUSDT',\n",
    "            'interval': '1h',            \n",
    "        },\n",
    "        'get_params': {\n",
    "            'column': ['High', 'Low', 'Close']\n",
    "        },\n",
    "        'run_params': { \n",
    "            'fastema': {'start': 10, 'stop': 30, 'step': 1},\n",
    "            'slowema': {'start': 100, 'stop': 400, 'step': 20},\n",
    "            'stl1': {'start': 15, 'stop': 17, 'step': 1},\n",
    "            'stm1': {'start': 2, 'stop': 4, 'step': 1},\n",
    "            'param_product': 'True'\n",
    "        }, \n",
    "    },\n",
    "    'portfolio': {'freq': 'H' ,\n",
    "                  'fees' : 0.1/100,\n",
    "                  'size_type': 'Percent',\n",
    "                  'size': .1} #proportion du portefeuille à investir dans chaque trade\n",
    "}\n",
    "\n"
   ]
  },
  {
   "cell_type": "code",
   "execution_count": 4,
   "metadata": {},
   "outputs": [
    {
     "data": {
      "application/vnd.jupyter.widget-view+json": {
       "model_id": "f9876f3fd1a84a9c985a469bdae333c3",
       "version_major": 2,
       "version_minor": 0
      },
      "text/plain": [
       "0it [00:00, ?it/s]"
      ]
     },
     "metadata": {},
     "output_type": "display_data"
    },
    {
     "data": {
      "application/vnd.jupyter.widget-view+json": {
       "model_id": "0df4f289d2b64b6eaa0c0ab6c80b83db",
       "version_major": 2,
       "version_minor": 0
      },
      "text/plain": [
       "0it [00:00, ?it/s]"
      ]
     },
     "metadata": {},
     "output_type": "display_data"
    },
    {
     "name": "stdout",
     "output_type": "stream",
     "text": [
      "Forward test between 2017-10-29 00:00:00+00:00 and 2017-11-12 00:00:00+00:00 finished at 2023-07-19 17:53:47.417973\n",
      "Cash: 1000.5504298805788\n"
     ]
    },
    {
     "data": {
      "application/vnd.jupyter.widget-view+json": {
       "model_id": "354a0981e19a438ca3210d4f54ccb374",
       "version_major": 2,
       "version_minor": 0
      },
      "text/plain": [
       "0it [00:00, ?it/s]"
      ]
     },
     "metadata": {},
     "output_type": "display_data"
    },
    {
     "data": {
      "application/vnd.jupyter.widget-view+json": {
       "model_id": "0bc612376abf404f918c3997cbfd6f6f",
       "version_major": 2,
       "version_minor": 0
      },
      "text/plain": [
       "0it [00:00, ?it/s]"
      ]
     },
     "metadata": {},
     "output_type": "display_data"
    },
    {
     "name": "stdout",
     "output_type": "stream",
     "text": [
      "Forward test between 2017-11-12 00:00:00+00:00 and 2017-11-26 00:00:00+00:00 finished at 2023-07-19 17:55:19.993916\n",
      "Cash: 1005.3663943682357\n"
     ]
    },
    {
     "data": {
      "application/vnd.jupyter.widget-view+json": {
       "model_id": "fe9e70b3c952446e915e12dd434cc5a8",
       "version_major": 2,
       "version_minor": 0
      },
      "text/plain": [
       "0it [00:00, ?it/s]"
      ]
     },
     "metadata": {},
     "output_type": "display_data"
    },
    {
     "data": {
      "application/vnd.jupyter.widget-view+json": {
       "model_id": "e87a437213bc40a6af3ab0d4d687350d",
       "version_major": 2,
       "version_minor": 0
      },
      "text/plain": [
       "0it [00:00, ?it/s]"
      ]
     },
     "metadata": {},
     "output_type": "display_data"
    },
    {
     "name": "stdout",
     "output_type": "stream",
     "text": [
      "Forward test between 2017-11-26 00:00:00+00:00 and 2017-12-10 00:00:00+00:00 finished at 2023-07-19 17:56:41.992507\n",
      "Cash: 1041.192881020802\n"
     ]
    },
    {
     "data": {
      "application/vnd.jupyter.widget-view+json": {
       "model_id": "4aa586d3e0de47709e1bf2502028eec7",
       "version_major": 2,
       "version_minor": 0
      },
      "text/plain": [
       "0it [00:00, ?it/s]"
      ]
     },
     "metadata": {},
     "output_type": "display_data"
    },
    {
     "data": {
      "application/vnd.jupyter.widget-view+json": {
       "model_id": "70d1096dafee4fc1a05d8825cb8fe9db",
       "version_major": 2,
       "version_minor": 0
      },
      "text/plain": [
       "0it [00:00, ?it/s]"
      ]
     },
     "metadata": {},
     "output_type": "display_data"
    },
    {
     "name": "stdout",
     "output_type": "stream",
     "text": [
      "Forward test between 2017-12-10 00:00:00+00:00 and 2017-12-24 00:00:00+00:00 finished at 2023-07-19 17:58:04.922409\n",
      "Cash: 1045.1606115817203\n"
     ]
    },
    {
     "data": {
      "application/vnd.jupyter.widget-view+json": {
       "model_id": "36c9a01a46ca492490c2ffd66a116ee7",
       "version_major": 2,
       "version_minor": 0
      },
      "text/plain": [
       "0it [00:00, ?it/s]"
      ]
     },
     "metadata": {},
     "output_type": "display_data"
    },
    {
     "data": {
      "text/plain": [
       "1045.1606115817203"
      ]
     },
     "execution_count": 4,
     "metadata": {},
     "output_type": "execute_result"
    }
   ],
   "source": [
    "indics = Indicators\n",
    "test = ForwardTest(indics.SuperReversal, params)\n",
    "test.backtest(init_cash=1000)"
   ]
  },
  {
   "cell_type": "code",
   "execution_count": 5,
   "metadata": {},
   "outputs": [
    {
     "ename": "NameError",
     "evalue": "name 'stack' is not defined",
     "output_type": "error",
     "traceback": [
      "\u001b[1;31m---------------------------------------------------------------------------\u001b[0m",
      "\u001b[1;31mNameError\u001b[0m                                 Traceback (most recent call last)",
      "Cell \u001b[1;32mIn[5], line 1\u001b[0m\n\u001b[1;32m----> 1\u001b[0m pf \u001b[38;5;241m=\u001b[39m \u001b[43mtest\u001b[49m\u001b[38;5;241;43m.\u001b[39;49m\u001b[43maggregate_results\u001b[49m\u001b[43m \u001b[49m\u001b[43m(\u001b[49m\u001b[43m)\u001b[49m\n\u001b[0;32m      2\u001b[0m pf\u001b[38;5;241m.\u001b[39mstats()\n",
      "File \u001b[1;32mc:\\Users\\slavi\\Documents\\Dev\\vbt_projects\\notebooks\\crypto-robot-strats\\../../modules\\decorators.py:23\u001b[0m, in \u001b[0;36mlog.<locals>.wrapper\u001b[1;34m(*args, **kwargs)\u001b[0m\n\u001b[0;32m     <a href='file:///c%3A/Users/slavi/Documents/Dev/vbt_projects/notebooks/crypto-robot-strats/../../modules/decorators.py?line=19'>20</a>\u001b[0m \u001b[39m@functools\u001b[39m\u001b[39m.\u001b[39mwraps(func)\n\u001b[0;32m     <a href='file:///c%3A/Users/slavi/Documents/Dev/vbt_projects/notebooks/crypto-robot-strats/../../modules/decorators.py?line=20'>21</a>\u001b[0m \u001b[39mdef\u001b[39;00m \u001b[39mwrapper\u001b[39m(\u001b[39m*\u001b[39margs, \u001b[39m*\u001b[39m\u001b[39m*\u001b[39mkwargs):\n\u001b[0;32m     <a href='file:///c%3A/Users/slavi/Documents/Dev/vbt_projects/notebooks/crypto-robot-strats/../../modules/decorators.py?line=21'>22</a>\u001b[0m     res \u001b[39m=\u001b[39m func(\u001b[39m*\u001b[39margs, \u001b[39m*\u001b[39m\u001b[39m*\u001b[39mkwargs)\n\u001b[1;32m---> <a href='file:///c%3A/Users/slavi/Documents/Dev/vbt_projects/notebooks/crypto-robot-strats/../../modules/decorators.py?line=22'>23</a>\u001b[0m     \u001b[39mprint\u001b[39m(stack[\u001b[39m-\u001b[39m\u001b[39m2\u001b[39m]\u001b[39m.\u001b[39mfilename)\n\u001b[0;32m     <a href='file:///c%3A/Users/slavi/Documents/Dev/vbt_projects/notebooks/crypto-robot-strats/../../modules/decorators.py?line=23'>24</a>\u001b[0m     \u001b[39mreturn\u001b[39;00m res\n",
      "\u001b[1;31mNameError\u001b[0m: name 'stack' is not defined"
     ]
    }
   ],
   "source": [
    "pf = test.aggregate_results ()\n",
    "pf.stats()"
   ]
  }
 ],
 "metadata": {
  "kernelspec": {
   "display_name": "Bruno_proj",
   "language": "python",
   "name": "python3"
  },
  "language_info": {
   "codemirror_mode": {
    "name": "ipython",
    "version": 3
   },
   "file_extension": ".py",
   "mimetype": "text/x-python",
   "name": "python",
   "nbconvert_exporter": "python",
   "pygments_lexer": "ipython3",
   "version": "3.9.16"
  },
  "orig_nbformat": 4
 },
 "nbformat": 4,
 "nbformat_minor": 2
}
