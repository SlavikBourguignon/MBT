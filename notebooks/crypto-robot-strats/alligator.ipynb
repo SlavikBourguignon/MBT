{
 "cells": [
  {
   "cell_type": "code",
   "execution_count": 1,
   "metadata": {},
   "outputs": [
    {
     "name": "stderr",
     "output_type": "stream",
     "text": [
      "c:\\Users\\slavi\\anaconda3\\envs\\Bruno_proj\\lib\\site-packages\\numba\\core\\decorators.py:262: NumbaDeprecationWarning: \u001b[1mnumba.generated_jit is deprecated. Please see the documentation at: https://numba.readthedocs.io/en/stable/reference/deprecation.html#deprecation-of-generated-jit for more information and advice on a suitable replacement.\u001b[0m\n",
      "  warnings.warn(msg, NumbaDeprecationWarning)\n"
     ]
    }
   ],
   "source": [
    "import pandas as pd\n",
    "import datetime, pytz\n",
    "import vectorbt as vbt\n",
    "import numpy as np\n",
    "import matplotlib.pyplot as plt\n",
    "import json\n",
    "\n",
    "import talib\n",
    "import pandas_ta\n",
    "import time\n",
    "\n",
    "from importlib import reload\n",
    "\n",
    "\n",
    "import sys \n",
    "sys.path.append('../../modules/')\n",
    "\n",
    "from forwardtest import ForwardTest\n",
    "from vbt_strategies import Strategy as Strat"
   ]
  },
  {
   "cell_type": "code",
   "execution_count": 3,
   "metadata": {},
   "outputs": [],
   "source": [
    "def alligator(Close, window1, window2, window3, window4, window5, window6):\n",
    "    ema1 = vbt.talib('EMA').run(Close, window1).real.to_numpy()\n",
    "    ema2 = vbt.talib('EMA').run(Close, window2).real.to_numpy()\n",
    "    ema3 = vbt.talib('EMA').run(Close, window3).real.to_numpy()\n",
    "    ema4 = vbt.talib('EMA').run(Close, window4).real.to_numpy()\n",
    "    ema5 = vbt.talib('EMA').run(Close, window5).real.to_numpy()\n",
    "    ema6 = vbt.talib('EMA').run(Close, window6).real.to_numpy()\n",
    "    stoch_rsi = vbt.talib('STOCHRSI').run(Close).fastk.to_numpy() \n",
    "\n",
    "    entries = (ema1 > ema2) & (ema2 > ema3) & (ema3 > ema4) & (ema4 > ema5) & (ema5 > ema6) & (stoch_rsi < 0.8)\n",
    "    exits = (ema6 > ema1) & (stoch_rsi < 0.2) \n",
    "\n",
    "    return entries, exits\n",
    "\n",
    "Alligator = vbt.IndicatorFactory(\n",
    "            class_name= 'Alligator',\n",
    "            short_name = 'ALGT',\n",
    "            input_names = [\"Close\"] ,\n",
    "            param_names = [\"window1\", \"window2\", \"window3\", \"window4\", \"window5\", \"window6\",],\n",
    "            output_names= [\"entries\", \"exits\"]\n",
    "        ).from_apply_func(alligator)"
   ]
  },
  {
   "cell_type": "code",
   "execution_count": null,
   "metadata": {},
   "outputs": [],
   "source": [
    "params = {\n",
    "    'backtest': {\n",
    "        'start': '2017-10-1',\n",
    "        'end': '2018-1-1',\n",
    "        'length': {\n",
    "            'weeks': 8  #durée pendant laquelle on optimise les paramètres\n",
    "        },\n",
    "        'forward': {\n",
    "            'weeks': 2  #durée pendant laquelle on joue les paramètres optimisés\n",
    "        },\n",
    "        \n",
    "    },\n",
    "    'strat':{\n",
    "        'download_params': {\n",
    "            'symbols': 'BTCUSDT',\n",
    "            'interval': '1h',            \n",
    "        },\n",
    "        'get_params': {\n",
    "            'column': ['High', 'Low', 'Close']\n",
    "        },\n",
    "        'run_params': { \n",
    "            'window1': {'start': 5, 'stop': 10, 'step': 3},\n",
    "            'window2': {'start': 10, 'stop': 15, 'step': 3},\n",
    "            'window3': {'start': 15, 'stop': 25, 'step': 3},\n",
    "            'window4': {'start': 30, 'stop': 40, 'step': 3},\n",
    "            'window5': {'start': 50, 'stop': 60, 'step': 3},\n",
    "            'window6': {'start': 100, 'stop': 110, 'step': 5},\n",
    "            'param_product': 'True'\n",
    "        }, \n",
    "    },\n",
    "    'portfolio': {'freq': 'H' ,\n",
    "                  'fees' : 0.1/100,\n",
    "                  'size_type': 'Percent',\n",
    "                  'size': .1} #proportion du portefeuille à investir dans chaque trade\n",
    "}\n",
    "\n"
   ]
  },
  {
   "cell_type": "code",
   "execution_count": 2,
   "metadata": {},
   "outputs": [
    {
     "data": {
      "text/plain": [
       "vectorbt.indicators.factory.TrueStrat"
      ]
     },
     "execution_count": 2,
     "metadata": {},
     "output_type": "execute_result"
    }
   ],
   "source": [
    "strat = Strat()\n",
    "strat.TrueStrat"
   ]
  },
  {
   "cell_type": "code",
   "execution_count": 5,
   "metadata": {},
   "outputs": [
    {
     "data": {
      "application/vnd.jupyter.widget-view+json": {
       "model_id": "ffa6eab48ec94fc29710f11a05b9b639",
       "version_major": 2,
       "version_minor": 0
      },
      "text/plain": [
       "0it [00:00, ?it/s]"
      ]
     },
     "metadata": {},
     "output_type": "display_data"
    },
    {
     "data": {
      "application/vnd.jupyter.widget-view+json": {
       "model_id": "427d80aec3554f6fae42a9cc05611c8e",
       "version_major": 2,
       "version_minor": 0
      },
      "text/plain": [
       "0it [00:00, ?it/s]"
      ]
     },
     "metadata": {},
     "output_type": "display_data"
    },
    {
     "name": "stdout",
     "output_type": "stream",
     "text": [
      "Forward test between 2017-11-26 00:00:00+00:00 and 2017-12-10 00:00:00+00:00 finished at 2023-07-17 16:18:15.041983\n",
      "Cash: 1028.1426649211196\n"
     ]
    },
    {
     "data": {
      "application/vnd.jupyter.widget-view+json": {
       "model_id": "b91eb3114c3740e1a6d84730a9a42988",
       "version_major": 2,
       "version_minor": 0
      },
      "text/plain": [
       "0it [00:00, ?it/s]"
      ]
     },
     "metadata": {},
     "output_type": "display_data"
    },
    {
     "data": {
      "application/vnd.jupyter.widget-view+json": {
       "model_id": "9f3e8a40e8a74871960130e9d4cddd00",
       "version_major": 2,
       "version_minor": 0
      },
      "text/plain": [
       "0it [00:00, ?it/s]"
      ]
     },
     "metadata": {},
     "output_type": "display_data"
    },
    {
     "name": "stdout",
     "output_type": "stream",
     "text": [
      "Forward test between 2017-12-10 00:00:00+00:00 and 2017-12-24 00:00:00+00:00 finished at 2023-07-17 16:18:38.311747\n",
      "Cash: 1033.6784032963037\n"
     ]
    },
    {
     "data": {
      "application/vnd.jupyter.widget-view+json": {
       "model_id": "d6eccf977aa64fb486d6367366e44796",
       "version_major": 2,
       "version_minor": 0
      },
      "text/plain": [
       "0it [00:00, ?it/s]"
      ]
     },
     "metadata": {},
     "output_type": "display_data"
    },
    {
     "data": {
      "application/vnd.jupyter.widget-view+json": {
       "model_id": "3b52c75c81ef479eacdf49f426e45374",
       "version_major": 2,
       "version_minor": 0
      },
      "text/plain": [
       "0it [00:00, ?it/s]"
      ]
     },
     "metadata": {},
     "output_type": "display_data"
    },
    {
     "name": "stdout",
     "output_type": "stream",
     "text": [
      "Forward test between 2017-12-24 00:00:00+00:00 and 2018-01-07 00:00:00+00:00 finished at 2023-07-17 16:18:55.935096\n",
      "Cash: 1050.4258208800902\n"
     ]
    },
    {
     "data": {
      "application/vnd.jupyter.widget-view+json": {
       "model_id": "075dd6e4d57344ab87b42c5c32bd34eb",
       "version_major": 2,
       "version_minor": 0
      },
      "text/plain": [
       "0it [00:00, ?it/s]"
      ]
     },
     "metadata": {},
     "output_type": "display_data"
    },
    {
     "data": {
      "application/vnd.jupyter.widget-view+json": {
       "model_id": "c4c99457a75f4a63bf515a8773d4c6c5",
       "version_major": 2,
       "version_minor": 0
      },
      "text/plain": [
       "0it [00:00, ?it/s]"
      ]
     },
     "metadata": {},
     "output_type": "display_data"
    },
    {
     "name": "stdout",
     "output_type": "stream",
     "text": [
      "Forward test between 2018-01-07 00:00:00+00:00 and 2018-01-21 00:00:00+00:00 finished at 2023-07-17 16:19:13.926959\n",
      "Cash: 1050.5667508475808\n"
     ]
    },
    {
     "data": {
      "application/vnd.jupyter.widget-view+json": {
       "model_id": "52dd172cdd744c8e847d862bee9b6d25",
       "version_major": 2,
       "version_minor": 0
      },
      "text/plain": [
       "0it [00:00, ?it/s]"
      ]
     },
     "metadata": {},
     "output_type": "display_data"
    },
    {
     "data": {
      "application/vnd.jupyter.widget-view+json": {
       "model_id": "86c060c8a0d64bde9e094b3b75331e82",
       "version_major": 2,
       "version_minor": 0
      },
      "text/plain": [
       "0it [00:00, ?it/s]"
      ]
     },
     "metadata": {},
     "output_type": "display_data"
    },
    {
     "name": "stdout",
     "output_type": "stream",
     "text": [
      "Forward test between 2018-01-21 00:00:00+00:00 and 2018-02-04 00:00:00+00:00 finished at 2023-07-17 16:19:34.806386\n",
      "Cash: 1043.3013587093747\n"
     ]
    },
    {
     "data": {
      "application/vnd.jupyter.widget-view+json": {
       "model_id": "201a28023b9043e0a147faceea203d9d",
       "version_major": 2,
       "version_minor": 0
      },
      "text/plain": [
       "0it [00:00, ?it/s]"
      ]
     },
     "metadata": {},
     "output_type": "display_data"
    },
    {
     "data": {
      "application/vnd.jupyter.widget-view+json": {
       "model_id": "a9277e14d5a44212852276fcdb7c3192",
       "version_major": 2,
       "version_minor": 0
      },
      "text/plain": [
       "0it [00:00, ?it/s]"
      ]
     },
     "metadata": {},
     "output_type": "display_data"
    },
    {
     "name": "stdout",
     "output_type": "stream",
     "text": [
      "Forward test between 2018-02-04 00:00:00+00:00 and 2018-02-18 00:00:00+00:00 finished at 2023-07-17 16:19:52.911802\n",
      "Cash: 1068.2732427405765\n"
     ]
    },
    {
     "data": {
      "application/vnd.jupyter.widget-view+json": {
       "model_id": "a5fe8c77a9fa4b3bbfd1a2d7a2b79757",
       "version_major": 2,
       "version_minor": 0
      },
      "text/plain": [
       "0it [00:00, ?it/s]"
      ]
     },
     "metadata": {},
     "output_type": "display_data"
    },
    {
     "data": {
      "application/vnd.jupyter.widget-view+json": {
       "model_id": "51a128fde1794407a599a9876e208f71",
       "version_major": 2,
       "version_minor": 0
      },
      "text/plain": [
       "0it [00:00, ?it/s]"
      ]
     },
     "metadata": {},
     "output_type": "display_data"
    },
    {
     "name": "stdout",
     "output_type": "stream",
     "text": [
      "Forward test between 2018-02-18 00:00:00+00:00 and 2018-03-04 00:00:00+00:00 finished at 2023-07-17 16:20:11.199082\n",
      "Cash: 1076.0054902237362\n"
     ]
    },
    {
     "data": {
      "application/vnd.jupyter.widget-view+json": {
       "model_id": "710b251ddd8242b9a24d067a88b8eeed",
       "version_major": 2,
       "version_minor": 0
      },
      "text/plain": [
       "0it [00:00, ?it/s]"
      ]
     },
     "metadata": {},
     "output_type": "display_data"
    }
   ],
   "source": [
    "\n",
    "test = ForwardTest(Alligator, params)\n",
    "test.backtest(init_cash=1000)"
   ]
  },
  {
   "cell_type": "code",
   "execution_count": null,
   "metadata": {},
   "outputs": [],
   "source": [
    "pf = test.aggregate_results ()\n",
    "pf.stats()"
   ]
  }
 ],
 "metadata": {
  "kernelspec": {
   "display_name": "Bruno_proj",
   "language": "python",
   "name": "python3"
  },
  "language_info": {
   "codemirror_mode": {
    "name": "ipython",
    "version": 3
   },
   "file_extension": ".py",
   "mimetype": "text/x-python",
   "name": "python",
   "nbconvert_exporter": "python",
   "pygments_lexer": "ipython3",
   "version": "3.9.7"
  },
  "orig_nbformat": 4
 },
 "nbformat": 4,
 "nbformat_minor": 2
}
