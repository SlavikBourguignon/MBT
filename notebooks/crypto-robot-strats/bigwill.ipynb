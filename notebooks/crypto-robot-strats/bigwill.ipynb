{
 "cells": [
  {
   "cell_type": "code",
   "execution_count": 1,
   "metadata": {},
   "outputs": [
    {
     "name": "stderr",
     "output_type": "stream",
     "text": [
      "c:\\Users\\slavi\\anaconda3\\envs\\Bruno_proj\\lib\\site-packages\\numba\\core\\decorators.py:262: NumbaDeprecationWarning: \u001b[1mnumba.generated_jit is deprecated. Please see the documentation at: https://numba.readthedocs.io/en/stable/reference/deprecation.html#deprecation-of-generated-jit for more information and advice on a suitable replacement.\u001b[0m\n",
      "  warnings.warn(msg, NumbaDeprecationWarning)\n"
     ]
    }
   ],
   "source": [
    "import pandas as pd\n",
    "import datetime, pytz\n",
    "import vectorbt as vbt\n",
    "import numpy as np\n",
    "import matplotlib.pyplot as plt\n",
    "import json\n",
    "\n",
    "import talib\n",
    "import pandas_ta\n",
    "import time\n",
    "\n",
    "from importlib import reload\n",
    "\n",
    "\n",
    "import sys \n",
    "sys.path.append('../../modules/')\n",
    "\n",
    "from forwardtest import ForwardTest\n",
    "from vbt_indicator import Indicators"
   ]
  },
  {
   "cell_type": "code",
   "execution_count": 11,
   "metadata": {},
   "outputs": [
    {
     "name": "stdout",
     "output_type": "stream",
     "text": [
      "Help on method run:\n",
      "\n",
      "run(high, low, close, timeperiod=Default(14), short_name='willr', hide_params=None, hide_default=True, **kwargs) method of vectorbt.indicators.factory.MetaIndicatorBase instance\n",
      "    Run `WILLR` indicator.\n",
      "    \n",
      "    * Inputs: `high`, `low`, `close`\n",
      "    * Parameters: `timeperiod`\n",
      "    * Outputs: `real`\n",
      "    \n",
      "    Pass a list of parameter names as `hide_params` to hide their column levels.\n",
      "    Set `hide_default` to False to show the column levels of the parameters with a default value.\n",
      "    \n",
      "    Other keyword arguments are passed to `vectorbt.indicators.factory.run_pipeline`.\n",
      "\n"
     ]
    }
   ],
   "source": [
    "help(vbt.talib('WILLR').run)"
   ]
  },
  {
   "cell_type": "code",
   "execution_count": 26,
   "metadata": {},
   "outputs": [],
   "source": [
    "def bigwill(High, Low, Close, ao1, ao2, stoch_window, willr_period):\n",
    "    src = (High+ Low) \n",
    "    ao = vbt.talib('SMA').run(src, ao1).real.to_numpy() - vbt.talib('SMA').run(src, ao2).real.to_numpy()\n",
    "    stoch_rsi = vbt.talib('STOCHRSI').run(Close, stoch_window).fastk.to_numpy()\n",
    "    willr = vbt.talib('WILLR').run(High, Low, Close, willr_period).real.to_numpy()\n",
    "\n",
    "    entries = (ao > 0) & (willr < -85)\n",
    "    exits = ((ao < 0) & (stoch_rsi > 0.2)) | (willr > -10)\n",
    "\n",
    "    return entries, exits\n",
    "\n",
    "BigWill = vbt.IndicatorFactory(\n",
    "    class_name= 'BigWill',\n",
    "    short_name = 'BW',\n",
    "    input_names = [\"High\", \"Low\", \"Close\"] ,\n",
    "    param_names = [\"ao1\", \"ao2\", \"stoch_window\", \"willr_period\"],\n",
    "    output_names= [\"entries\", \"exits\"]\n",
    "    ).from_apply_func(bigwill)"
   ]
  },
  {
   "cell_type": "code",
   "execution_count": 27,
   "metadata": {},
   "outputs": [],
   "source": [
    "params = {\n",
    "    'backtest': {\n",
    "        'start': '2017-10-1',\n",
    "        'end': '2018-1-1',\n",
    "        'length': {\n",
    "            'weeks': 4  #durée pendant laquelle on optimise les paramètres\n",
    "        },\n",
    "        'forward': {\n",
    "            'weeks': 2  #durée pendant laquelle on joue les paramètres optimisés\n",
    "        },\n",
    "        \n",
    "    },\n",
    "    'strat':{\n",
    "        'download_params': {\n",
    "            'symbols': 'BTCUSDT',\n",
    "            'interval': '1h',            \n",
    "        },\n",
    "        'get_params': {\n",
    "            'column': ['High', 'Low', 'Close']\n",
    "        },\n",
    "        'run_params': { \n",
    "            'ao1': {'start': 5, 'stop': 10, 'step': 1},\n",
    "            'ao2': {'start': 20, 'stop': 30, 'step': 1},\n",
    "            'stoch_window': {'start': 10, 'stop': 20, 'step': 1},\n",
    "            'willr_period': {'start': 10, 'stop': 20, 'step': 1},\n",
    "            'param_product': 'True'\n",
    "        }, \n",
    "    },\n",
    "    'portfolio': {'freq': 'H' ,\n",
    "                  'fees' : 0.1/100,\n",
    "                  'size_type': 'Percent',\n",
    "                  'size': .1} #proportion du portefeuille à investir dans chaque trade\n",
    "}\n",
    "\n"
   ]
  },
  {
   "cell_type": "code",
   "execution_count": 28,
   "metadata": {},
   "outputs": [
    {
     "data": {
      "application/vnd.jupyter.widget-view+json": {
       "model_id": "4a556e510ad448c798615a7bbb74ee37",
       "version_major": 2,
       "version_minor": 0
      },
      "text/plain": [
       "0it [00:00, ?it/s]"
      ]
     },
     "metadata": {},
     "output_type": "display_data"
    },
    {
     "data": {
      "application/vnd.jupyter.widget-view+json": {
       "model_id": "f249aee0f5b34cd7beef9d7d0b0fb0d8",
       "version_major": 2,
       "version_minor": 0
      },
      "text/plain": [
       "0it [00:00, ?it/s]"
      ]
     },
     "metadata": {},
     "output_type": "display_data"
    },
    {
     "name": "stdout",
     "output_type": "stream",
     "text": [
      "Forward test between 2017-10-29 00:00:00+00:00 and 2017-11-12 00:00:00+00:00 finished at 2023-07-17 20:15:22.797830\n",
      "Cash: 996.1723862958162\n"
     ]
    },
    {
     "data": {
      "application/vnd.jupyter.widget-view+json": {
       "model_id": "53194d1d0fa74f90b5e26995fcb9c7b9",
       "version_major": 2,
       "version_minor": 0
      },
      "text/plain": [
       "0it [00:00, ?it/s]"
      ]
     },
     "metadata": {},
     "output_type": "display_data"
    },
    {
     "data": {
      "application/vnd.jupyter.widget-view+json": {
       "model_id": "c90a15fbe7e44771a1666ef6da7498d0",
       "version_major": 2,
       "version_minor": 0
      },
      "text/plain": [
       "0it [00:00, ?it/s]"
      ]
     },
     "metadata": {},
     "output_type": "display_data"
    },
    {
     "name": "stdout",
     "output_type": "stream",
     "text": [
      "Forward test between 2017-11-12 00:00:00+00:00 and 2017-11-26 00:00:00+00:00 finished at 2023-07-17 20:16:31.673836\n",
      "Cash: 1008.8155640112811\n"
     ]
    },
    {
     "data": {
      "application/vnd.jupyter.widget-view+json": {
       "model_id": "bd3ac81e256648bf9a63f736754d24ac",
       "version_major": 2,
       "version_minor": 0
      },
      "text/plain": [
       "0it [00:00, ?it/s]"
      ]
     },
     "metadata": {},
     "output_type": "display_data"
    },
    {
     "data": {
      "application/vnd.jupyter.widget-view+json": {
       "model_id": "343a845e5d684ad189ea4d8bc77df3f2",
       "version_major": 2,
       "version_minor": 0
      },
      "text/plain": [
       "0it [00:00, ?it/s]"
      ]
     },
     "metadata": {},
     "output_type": "display_data"
    },
    {
     "name": "stdout",
     "output_type": "stream",
     "text": [
      "Forward test between 2017-11-26 00:00:00+00:00 and 2017-12-10 00:00:00+00:00 finished at 2023-07-17 20:17:34.497563\n",
      "Cash: 1004.4585966844438\n"
     ]
    },
    {
     "data": {
      "application/vnd.jupyter.widget-view+json": {
       "model_id": "2694c3fcded548d89f5dd48797953638",
       "version_major": 2,
       "version_minor": 0
      },
      "text/plain": [
       "0it [00:00, ?it/s]"
      ]
     },
     "metadata": {},
     "output_type": "display_data"
    },
    {
     "data": {
      "application/vnd.jupyter.widget-view+json": {
       "model_id": "f2455ede85f14d29af00abbecbda02b1",
       "version_major": 2,
       "version_minor": 0
      },
      "text/plain": [
       "0it [00:00, ?it/s]"
      ]
     },
     "metadata": {},
     "output_type": "display_data"
    },
    {
     "name": "stdout",
     "output_type": "stream",
     "text": [
      "Forward test between 2017-12-10 00:00:00+00:00 and 2017-12-24 00:00:00+00:00 finished at 2023-07-17 20:18:37.348901\n",
      "Cash: 1003.6005347337921\n"
     ]
    },
    {
     "data": {
      "application/vnd.jupyter.widget-view+json": {
       "model_id": "f6289e55ceec4ca8956feb8f5129a4b3",
       "version_major": 2,
       "version_minor": 0
      },
      "text/plain": [
       "0it [00:00, ?it/s]"
      ]
     },
     "metadata": {},
     "output_type": "display_data"
    },
    {
     "data": {
      "text/plain": [
       "1003.6005347337921"
      ]
     },
     "execution_count": 28,
     "metadata": {},
     "output_type": "execute_result"
    }
   ],
   "source": [
    "test = ForwardTest(BigWill, params)\n",
    "test.backtest()"
   ]
  },
  {
   "cell_type": "code",
   "execution_count": 29,
   "metadata": {},
   "outputs": [
    {
     "data": {
      "text/plain": [
       "Start                         2017-10-29 00:00:00+00:00\n",
       "End                           2017-12-23 23:00:00+00:00\n",
       "Period                                 56 days 00:00:00\n",
       "Start Value                                       100.0\n",
       "End Value                                    100.360053\n",
       "Total Return [%]                               0.360053\n",
       "Benchmark Return [%]                          133.38779\n",
       "Max Gross Exposure [%]                        10.429055\n",
       "Total Fees Paid                                0.311821\n",
       "Max Drawdown [%]                               1.356308\n",
       "Max Drawdown Duration                  28 days 20:00:00\n",
       "Total Trades                                         16\n",
       "Total Closed Trades                                  15\n",
       "Total Open Trades                                     1\n",
       "Open Trade PnL                                -0.010027\n",
       "Win Rate [%]                                  66.666667\n",
       "Best Trade [%]                                 5.902148\n",
       "Worst Trade [%]                               -4.942286\n",
       "Avg Winning Trade [%]                           1.75908\n",
       "Avg Losing Trade [%]                          -2.765283\n",
       "Avg Winning Trade Duration              0 days 05:42:00\n",
       "Avg Losing Trade Duration               0 days 03:36:00\n",
       "Profit Factor                                  1.266325\n",
       "Expectancy                                     0.024672\n",
       "Sharpe Ratio                                      0.545\n",
       "Calmar Ratio                                    1.74755\n",
       "Omega Ratio                                    1.077551\n",
       "Sortino Ratio                                  0.736421\n",
       "dtype: object"
      ]
     },
     "execution_count": 29,
     "metadata": {},
     "output_type": "execute_result"
    }
   ],
   "source": [
    "pf = test.aggregate_results()\n",
    "pf.stats()\n"
   ]
  },
  {
   "cell_type": "code",
   "execution_count": null,
   "metadata": {},
   "outputs": [],
   "source": []
  }
 ],
 "metadata": {
  "kernelspec": {
   "display_name": "Bruno_proj",
   "language": "python",
   "name": "python3"
  },
  "language_info": {
   "codemirror_mode": {
    "name": "ipython",
    "version": 3
   },
   "file_extension": ".py",
   "mimetype": "text/x-python",
   "name": "python",
   "nbconvert_exporter": "python",
   "pygments_lexer": "ipython3",
   "version": "3.9.16"
  },
  "orig_nbformat": 4
 },
 "nbformat": 4,
 "nbformat_minor": 2
}
